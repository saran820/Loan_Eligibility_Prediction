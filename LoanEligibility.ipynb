{
 "cells": [
  {
   "cell_type": "code",
   "execution_count": 1,
   "metadata": {},
   "outputs": [],
   "source": [
    "import matplotlib.pyplot as plt\n",
    "import numpy as np\n",
    "import pandas as pd\n",
    "import seaborn as sns\n",
    "%matplotlib inline\n",
    "sns.set()"
   ]
  },
  {
   "cell_type": "code",
   "execution_count": 2,
   "metadata": {},
   "outputs": [],
   "source": [
    "df = pd.read_csv('loan_train.csv')"
   ]
  },
  {
   "cell_type": "code",
   "execution_count": 3,
   "metadata": {},
   "outputs": [
    {
     "data": {
      "text/html": [
       "<div>\n",
       "<style scoped>\n",
       "    .dataframe tbody tr th:only-of-type {\n",
       "        vertical-align: middle;\n",
       "    }\n",
       "\n",
       "    .dataframe tbody tr th {\n",
       "        vertical-align: top;\n",
       "    }\n",
       "\n",
       "    .dataframe thead th {\n",
       "        text-align: right;\n",
       "    }\n",
       "</style>\n",
       "<table border=\"1\" class=\"dataframe\">\n",
       "  <thead>\n",
       "    <tr style=\"text-align: right;\">\n",
       "      <th></th>\n",
       "      <th>Loan_ID</th>\n",
       "      <th>Gender</th>\n",
       "      <th>Married</th>\n",
       "      <th>Dependents</th>\n",
       "      <th>Education</th>\n",
       "      <th>Self_Employed</th>\n",
       "      <th>ApplicantIncome</th>\n",
       "      <th>CoapplicantIncome</th>\n",
       "      <th>LoanAmount</th>\n",
       "      <th>Loan_Amount_Term</th>\n",
       "      <th>Credit_History</th>\n",
       "      <th>Property_Area</th>\n",
       "      <th>Loan_Status</th>\n",
       "    </tr>\n",
       "  </thead>\n",
       "  <tbody>\n",
       "    <tr>\n",
       "      <td>0</td>\n",
       "      <td>LP001002</td>\n",
       "      <td>Male</td>\n",
       "      <td>No</td>\n",
       "      <td>0</td>\n",
       "      <td>Graduate</td>\n",
       "      <td>No</td>\n",
       "      <td>5849</td>\n",
       "      <td>0.0</td>\n",
       "      <td>NaN</td>\n",
       "      <td>360.0</td>\n",
       "      <td>1.0</td>\n",
       "      <td>Urban</td>\n",
       "      <td>Y</td>\n",
       "    </tr>\n",
       "    <tr>\n",
       "      <td>1</td>\n",
       "      <td>LP001003</td>\n",
       "      <td>Male</td>\n",
       "      <td>Yes</td>\n",
       "      <td>1</td>\n",
       "      <td>Graduate</td>\n",
       "      <td>No</td>\n",
       "      <td>4583</td>\n",
       "      <td>1508.0</td>\n",
       "      <td>128.0</td>\n",
       "      <td>360.0</td>\n",
       "      <td>1.0</td>\n",
       "      <td>Rural</td>\n",
       "      <td>N</td>\n",
       "    </tr>\n",
       "    <tr>\n",
       "      <td>2</td>\n",
       "      <td>LP001005</td>\n",
       "      <td>Male</td>\n",
       "      <td>Yes</td>\n",
       "      <td>0</td>\n",
       "      <td>Graduate</td>\n",
       "      <td>Yes</td>\n",
       "      <td>3000</td>\n",
       "      <td>0.0</td>\n",
       "      <td>66.0</td>\n",
       "      <td>360.0</td>\n",
       "      <td>1.0</td>\n",
       "      <td>Urban</td>\n",
       "      <td>Y</td>\n",
       "    </tr>\n",
       "    <tr>\n",
       "      <td>3</td>\n",
       "      <td>LP001006</td>\n",
       "      <td>Male</td>\n",
       "      <td>Yes</td>\n",
       "      <td>0</td>\n",
       "      <td>Not Graduate</td>\n",
       "      <td>No</td>\n",
       "      <td>2583</td>\n",
       "      <td>2358.0</td>\n",
       "      <td>120.0</td>\n",
       "      <td>360.0</td>\n",
       "      <td>1.0</td>\n",
       "      <td>Urban</td>\n",
       "      <td>Y</td>\n",
       "    </tr>\n",
       "    <tr>\n",
       "      <td>4</td>\n",
       "      <td>LP001008</td>\n",
       "      <td>Male</td>\n",
       "      <td>No</td>\n",
       "      <td>0</td>\n",
       "      <td>Graduate</td>\n",
       "      <td>No</td>\n",
       "      <td>6000</td>\n",
       "      <td>0.0</td>\n",
       "      <td>141.0</td>\n",
       "      <td>360.0</td>\n",
       "      <td>1.0</td>\n",
       "      <td>Urban</td>\n",
       "      <td>Y</td>\n",
       "    </tr>\n",
       "  </tbody>\n",
       "</table>\n",
       "</div>"
      ],
      "text/plain": [
       "    Loan_ID Gender Married Dependents     Education Self_Employed  \\\n",
       "0  LP001002   Male      No          0      Graduate            No   \n",
       "1  LP001003   Male     Yes          1      Graduate            No   \n",
       "2  LP001005   Male     Yes          0      Graduate           Yes   \n",
       "3  LP001006   Male     Yes          0  Not Graduate            No   \n",
       "4  LP001008   Male      No          0      Graduate            No   \n",
       "\n",
       "   ApplicantIncome  CoapplicantIncome  LoanAmount  Loan_Amount_Term  \\\n",
       "0             5849                0.0         NaN             360.0   \n",
       "1             4583             1508.0       128.0             360.0   \n",
       "2             3000                0.0        66.0             360.0   \n",
       "3             2583             2358.0       120.0             360.0   \n",
       "4             6000                0.0       141.0             360.0   \n",
       "\n",
       "   Credit_History Property_Area Loan_Status  \n",
       "0             1.0         Urban           Y  \n",
       "1             1.0         Rural           N  \n",
       "2             1.0         Urban           Y  \n",
       "3             1.0         Urban           Y  \n",
       "4             1.0         Urban           Y  "
      ]
     },
     "execution_count": 3,
     "metadata": {},
     "output_type": "execute_result"
    }
   ],
   "source": [
    "df.head()"
   ]
  },
  {
   "cell_type": "code",
   "execution_count": 4,
   "metadata": {},
   "outputs": [
    {
     "name": "stdout",
     "output_type": "stream",
     "text": [
      "<class 'pandas.core.frame.DataFrame'>\n",
      "RangeIndex: 614 entries, 0 to 613\n",
      "Data columns (total 13 columns):\n",
      "Loan_ID              614 non-null object\n",
      "Gender               601 non-null object\n",
      "Married              611 non-null object\n",
      "Dependents           599 non-null object\n",
      "Education            614 non-null object\n",
      "Self_Employed        582 non-null object\n",
      "ApplicantIncome      614 non-null int64\n",
      "CoapplicantIncome    614 non-null float64\n",
      "LoanAmount           592 non-null float64\n",
      "Loan_Amount_Term     600 non-null float64\n",
      "Credit_History       564 non-null float64\n",
      "Property_Area        614 non-null object\n",
      "Loan_Status          614 non-null object\n",
      "dtypes: float64(4), int64(1), object(8)\n",
      "memory usage: 62.5+ KB\n"
     ]
    }
   ],
   "source": [
    "df.info()"
   ]
  },
  {
   "cell_type": "code",
   "execution_count": 5,
   "metadata": {},
   "outputs": [
    {
     "data": {
      "text/html": [
       "<div>\n",
       "<style scoped>\n",
       "    .dataframe tbody tr th:only-of-type {\n",
       "        vertical-align: middle;\n",
       "    }\n",
       "\n",
       "    .dataframe tbody tr th {\n",
       "        vertical-align: top;\n",
       "    }\n",
       "\n",
       "    .dataframe thead th {\n",
       "        text-align: right;\n",
       "    }\n",
       "</style>\n",
       "<table border=\"1\" class=\"dataframe\">\n",
       "  <thead>\n",
       "    <tr style=\"text-align: right;\">\n",
       "      <th></th>\n",
       "      <th>ApplicantIncome</th>\n",
       "      <th>CoapplicantIncome</th>\n",
       "      <th>LoanAmount</th>\n",
       "      <th>Loan_Amount_Term</th>\n",
       "      <th>Credit_History</th>\n",
       "    </tr>\n",
       "  </thead>\n",
       "  <tbody>\n",
       "    <tr>\n",
       "      <td>count</td>\n",
       "      <td>614.000000</td>\n",
       "      <td>614.000000</td>\n",
       "      <td>592.000000</td>\n",
       "      <td>600.00000</td>\n",
       "      <td>564.000000</td>\n",
       "    </tr>\n",
       "    <tr>\n",
       "      <td>mean</td>\n",
       "      <td>5403.459283</td>\n",
       "      <td>1621.245798</td>\n",
       "      <td>146.412162</td>\n",
       "      <td>342.00000</td>\n",
       "      <td>0.842199</td>\n",
       "    </tr>\n",
       "    <tr>\n",
       "      <td>std</td>\n",
       "      <td>6109.041673</td>\n",
       "      <td>2926.248369</td>\n",
       "      <td>85.587325</td>\n",
       "      <td>65.12041</td>\n",
       "      <td>0.364878</td>\n",
       "    </tr>\n",
       "    <tr>\n",
       "      <td>min</td>\n",
       "      <td>150.000000</td>\n",
       "      <td>0.000000</td>\n",
       "      <td>9.000000</td>\n",
       "      <td>12.00000</td>\n",
       "      <td>0.000000</td>\n",
       "    </tr>\n",
       "    <tr>\n",
       "      <td>25%</td>\n",
       "      <td>2877.500000</td>\n",
       "      <td>0.000000</td>\n",
       "      <td>100.000000</td>\n",
       "      <td>360.00000</td>\n",
       "      <td>1.000000</td>\n",
       "    </tr>\n",
       "    <tr>\n",
       "      <td>50%</td>\n",
       "      <td>3812.500000</td>\n",
       "      <td>1188.500000</td>\n",
       "      <td>128.000000</td>\n",
       "      <td>360.00000</td>\n",
       "      <td>1.000000</td>\n",
       "    </tr>\n",
       "    <tr>\n",
       "      <td>75%</td>\n",
       "      <td>5795.000000</td>\n",
       "      <td>2297.250000</td>\n",
       "      <td>168.000000</td>\n",
       "      <td>360.00000</td>\n",
       "      <td>1.000000</td>\n",
       "    </tr>\n",
       "    <tr>\n",
       "      <td>max</td>\n",
       "      <td>81000.000000</td>\n",
       "      <td>41667.000000</td>\n",
       "      <td>700.000000</td>\n",
       "      <td>480.00000</td>\n",
       "      <td>1.000000</td>\n",
       "    </tr>\n",
       "  </tbody>\n",
       "</table>\n",
       "</div>"
      ],
      "text/plain": [
       "       ApplicantIncome  CoapplicantIncome  LoanAmount  Loan_Amount_Term  \\\n",
       "count       614.000000         614.000000  592.000000         600.00000   \n",
       "mean       5403.459283        1621.245798  146.412162         342.00000   \n",
       "std        6109.041673        2926.248369   85.587325          65.12041   \n",
       "min         150.000000           0.000000    9.000000          12.00000   \n",
       "25%        2877.500000           0.000000  100.000000         360.00000   \n",
       "50%        3812.500000        1188.500000  128.000000         360.00000   \n",
       "75%        5795.000000        2297.250000  168.000000         360.00000   \n",
       "max       81000.000000       41667.000000  700.000000         480.00000   \n",
       "\n",
       "       Credit_History  \n",
       "count      564.000000  \n",
       "mean         0.842199  \n",
       "std          0.364878  \n",
       "min          0.000000  \n",
       "25%          1.000000  \n",
       "50%          1.000000  \n",
       "75%          1.000000  \n",
       "max          1.000000  "
      ]
     },
     "execution_count": 5,
     "metadata": {},
     "output_type": "execute_result"
    }
   ],
   "source": [
    "df.describe()"
   ]
  },
  {
   "cell_type": "markdown",
   "metadata": {},
   "source": [
    "Exploratory Data Analysis"
   ]
  },
  {
   "cell_type": "code",
   "execution_count": 6,
   "metadata": {},
   "outputs": [
    {
     "data": {
      "text/plain": [
       "<matplotlib.axes._subplots.AxesSubplot at 0x1bf4adcdb48>"
      ]
     },
     "execution_count": 6,
     "metadata": {},
     "output_type": "execute_result"
    },
    {
     "data": {
      "image/png": "[encoded data removed]",
      "text/plain": [
       "<Figure size 720x504 with 1 Axes>"
      ]
     },
     "metadata": {
      "needs_background": "light"
     },
     "output_type": "display_data"
    }
   ],
   "source": [
    "plt.figure(figsize=(10,7))\n",
    "sns.scatterplot(x='ApplicantIncome',y='LoanAmount',hue='Loan_Status',data=df)"
   ]
  },
  {
   "cell_type": "code",
   "execution_count": 7,
   "metadata": {},
   "outputs": [
    {
     "data": {
      "text/plain": [
       "<matplotlib.axes._subplots.AxesSubplot at 0x1bf4b1190c8>"
      ]
     },
     "execution_count": 7,
     "metadata": {},
     "output_type": "execute_result"
    },
    {
     "data": {
      "image/png": "[encoded data removed]",
      "text/plain": [
       "<Figure size 720x504 with 1 Axes>"
      ]
     },
     "metadata": {
      "needs_background": "light"
     },
     "output_type": "display_data"
    }
   ],
   "source": [
    "plt.figure(figsize=(10,7))\n",
    "sns.scatterplot(x='CoapplicantIncome',y='LoanAmount',hue='Loan_Status',data=df)"
   ]
  },
  {
   "cell_type": "code",
   "execution_count": 8,
   "metadata": {},
   "outputs": [
    {
     "data": {
      "text/plain": [
       "<matplotlib.axes._subplots.AxesSubplot at 0x1bf4b158b48>"
      ]
     },
     "execution_count": 8,
     "metadata": {},
     "output_type": "execute_result"
    },
    {
     "data": {
      "image/png": "[encoded data removed]",
      "text/plain": [
       "<Figure size 720x504 with 1 Axes>"
      ]
     },
     "metadata": {
      "needs_background": "light"
     },
     "output_type": "display_data"
    }
   ],
   "source": [
    "plt.figure(figsize=(10,7))\n",
    "sns.scatterplot(x='Loan_Amount_Term',y='LoanAmount',hue='Loan_Status',data=df)"
   ]
  },
  {
   "cell_type": "code",
   "execution_count": 9,
   "metadata": {},
   "outputs": [
    {
     "data": {
      "text/plain": [
       "<matplotlib.axes._subplots.AxesSubplot at 0x1bf4b1db548>"
      ]
     },
     "execution_count": 9,
     "metadata": {},
     "output_type": "execute_result"
    },
    {
     "data": {
      "image/png": "[encoded data removed]",
      "text/plain": [
       "<Figure size 720x504 with 1 Axes>"
      ]
     },
     "metadata": {
      "needs_background": "light"
     },
     "output_type": "display_data"
    }
   ],
   "source": [
    "plt.figure(figsize=(10,7))\n",
    "df['LoanAmount'].plot(kind='hist',bins=30)"
   ]
  },
  {
   "cell_type": "code",
   "execution_count": 10,
   "metadata": {},
   "outputs": [
    {
     "data": {
      "text/plain": [
       "<matplotlib.axes._subplots.AxesSubplot at 0x1bf4b7f9188>"
      ]
     },
     "execution_count": 10,
     "metadata": {},
     "output_type": "execute_result"
    },
    {
     "data": {
      "image/png": "[encoded data removed]",
      "text/plain": [
       "<Figure size 720x504 with 1 Axes>"
      ]
     },
     "metadata": {
      "needs_background": "light"
     },
     "output_type": "display_data"
    }
   ],
   "source": [
    "plt.figure(figsize=(10,7))\n",
    "df['ApplicantIncome'].plot(kind='hist',bins=30)"
   ]
  },
  {
   "cell_type": "code",
   "execution_count": 11,
   "metadata": {},
   "outputs": [
    {
     "data": {
      "text/plain": [
       "<matplotlib.axes._subplots.AxesSubplot at 0x1bf4b6deb08>"
      ]
     },
     "execution_count": 11,
     "metadata": {},
     "output_type": "execute_result"
    },
    {
     "data": {
      "image/png": "[encoded data removed]",
      "text/plain": [
       "<Figure size 720x504 with 1 Axes>"
      ]
     },
     "metadata": {
      "needs_background": "light"
     },
     "output_type": "display_data"
    }
   ],
   "source": [
    "plt.figure(figsize=(10,7))\n",
    "df['CoapplicantIncome'].plot(kind='hist',bins=30)"
   ]
  },
  {
   "cell_type": "code",
   "execution_count": 12,
   "metadata": {},
   "outputs": [
    {
     "data": {
      "text/plain": [
       "<matplotlib.axes._subplots.AxesSubplot at 0x1bf4b755b48>"
      ]
     },
     "execution_count": 12,
     "metadata": {},
     "output_type": "execute_result"
    },
    {
     "data": {
      "image/png": "[encoded data removed]",
      "text/plain": [
       "<Figure size 720x504 with 1 Axes>"
      ]
     },
     "metadata": {
      "needs_background": "light"
     },
     "output_type": "display_data"
    }
   ],
   "source": [
    "plt.figure(figsize=(10,7))\n",
    "sns.countplot(x='Credit_History',data=df)"
   ]
  },
  {
   "cell_type": "code",
   "execution_count": 13,
   "metadata": {},
   "outputs": [
    {
     "data": {
      "text/plain": [
       "<matplotlib.axes._subplots.AxesSubplot at 0x1bf4b9c3c08>"
      ]
     },
     "execution_count": 13,
     "metadata": {},
     "output_type": "execute_result"
    },
    {
     "data": {
      "image/png": "[encoded data removed]",
      "text/plain": [
       "<Figure size 720x504 with 1 Axes>"
      ]
     },
     "metadata": {
      "needs_background": "light"
     },
     "output_type": "display_data"
    }
   ],
   "source": [
    "plt.figure(figsize=(10,7))\n",
    "sns.countplot(x='Property_Area',hue='Loan_Status',data=df)"
   ]
  },
  {
   "cell_type": "code",
   "execution_count": 14,
   "metadata": {},
   "outputs": [
    {
     "data": {
      "text/plain": [
       "<matplotlib.axes._subplots.AxesSubplot at 0x1bf4b83fa08>"
      ]
     },
     "execution_count": 14,
     "metadata": {},
     "output_type": "execute_result"
    },
    {
     "data": {
      "image/png": "[encoded data removed]",
      "text/plain": [
       "<Figure size 720x504 with 1 Axes>"
      ]
     },
     "metadata": {
      "needs_background": "light"
     },
     "output_type": "display_data"
    }
   ],
   "source": [
    "plt.figure(figsize=(10,7))\n",
    "sns.countplot(x='Education',hue='Loan_Status',data=df)"
   ]
  },
  {
   "cell_type": "markdown",
   "metadata": {},
   "source": [
    "Observations from EDA:\n",
    "From the initial graphs, we observe that we need to cut down on the outliers, by cutting down on the range on the following attributes,\n",
    "\n",
    "LoanAmount : 0 - 500\n",
    "\n",
    "ApplicantIncome: 0 - 21000\n",
    "\n",
    "CoapplicantIncome: 0 - 9000\n",
    "\n",
    "Loan_Term : 100-470"
   ]
  },
  {
   "cell_type": "markdown",
   "metadata": {},
   "source": [
    "The count plots show that high number of graduates have their loan approved.\n",
    "\n",
    "Similarily, a large number of loans approved were approved for Semi Urban areas, followed by Urban and Rural areas"
   ]
  },
  {
   "cell_type": "code",
   "execution_count": 15,
   "metadata": {},
   "outputs": [],
   "source": [
    "df = df[(df['LoanAmount']<500) & (df['ApplicantIncome']<25000) & (df['CoapplicantIncome']<25000) & (df['Loan_Amount_Term']<500)]"
   ]
  },
  {
   "cell_type": "markdown",
   "metadata": {},
   "source": [
    "Data Pre-Processing"
   ]
  },
  {
   "cell_type": "markdown",
   "metadata": {},
   "source": [
    "1. Filling for missing Data Values"
   ]
  },
  {
   "cell_type": "code",
   "execution_count": 16,
   "metadata": {},
   "outputs": [
    {
     "data": {
      "text/plain": [
       "Loan_ID               0\n",
       "Gender               12\n",
       "Married               2\n",
       "Dependents           12\n",
       "Education             0\n",
       "Self_Employed        28\n",
       "ApplicantIncome       0\n",
       "CoapplicantIncome     0\n",
       "LoanAmount            0\n",
       "Loan_Amount_Term      0\n",
       "Credit_History       47\n",
       "Property_Area         0\n",
       "Loan_Status           0\n",
       "dtype: int64"
      ]
     },
     "execution_count": 16,
     "metadata": {},
     "output_type": "execute_result"
    }
   ],
   "source": [
    "df.isna().sum()"
   ]
  },
  {
   "cell_type": "markdown",
   "metadata": {},
   "source": [
    "Filling the mode values for the Missing Data"
   ]
  },
  {
   "cell_type": "code",
   "execution_count": 17,
   "metadata": {},
   "outputs": [],
   "source": [
    "df['Gender'] = df['Gender'].fillna('Male')"
   ]
  },
  {
   "cell_type": "code",
   "execution_count": 18,
   "metadata": {},
   "outputs": [],
   "source": [
    "df['Married'] = df['Married'].fillna('Yes')"
   ]
  },
  {
   "cell_type": "code",
   "execution_count": 19,
   "metadata": {},
   "outputs": [],
   "source": [
    "df['Dependents'] = df['Dependents'].fillna(0)"
   ]
  },
  {
   "cell_type": "code",
   "execution_count": 20,
   "metadata": {},
   "outputs": [],
   "source": [
    "df['Self_Employed'] = df['Self_Employed'].fillna('Yes')"
   ]
  },
  {
   "cell_type": "code",
   "execution_count": 21,
   "metadata": {},
   "outputs": [],
   "source": [
    "df['Credit_History'] = df['Credit_History'].fillna(1)"
   ]
  },
  {
   "cell_type": "code",
   "execution_count": 22,
   "metadata": {},
   "outputs": [
    {
     "data": {
      "text/plain": [
       "Loan_ID              0\n",
       "Gender               0\n",
       "Married              0\n",
       "Dependents           0\n",
       "Education            0\n",
       "Self_Employed        0\n",
       "ApplicantIncome      0\n",
       "CoapplicantIncome    0\n",
       "LoanAmount           0\n",
       "Loan_Amount_Term     0\n",
       "Credit_History       0\n",
       "Property_Area        0\n",
       "Loan_Status          0\n",
       "dtype: int64"
      ]
     },
     "execution_count": 22,
     "metadata": {},
     "output_type": "execute_result"
    }
   ],
   "source": [
    "df.isna().sum()"
   ]
  },
  {
   "cell_type": "code",
   "execution_count": 23,
   "metadata": {},
   "outputs": [
    {
     "name": "stdout",
     "output_type": "stream",
     "text": [
      "<class 'pandas.core.frame.DataFrame'>\n",
      "Int64Index: 565 entries, 1 to 613\n",
      "Data columns (total 13 columns):\n",
      "Loan_ID              565 non-null object\n",
      "Gender               565 non-null object\n",
      "Married              565 non-null object\n",
      "Dependents           565 non-null object\n",
      "Education            565 non-null object\n",
      "Self_Employed        565 non-null object\n",
      "ApplicantIncome      565 non-null int64\n",
      "CoapplicantIncome    565 non-null float64\n",
      "LoanAmount           565 non-null float64\n",
      "Loan_Amount_Term     565 non-null float64\n",
      "Credit_History       565 non-null float64\n",
      "Property_Area        565 non-null object\n",
      "Loan_Status          565 non-null object\n",
      "dtypes: float64(4), int64(1), object(8)\n",
      "memory usage: 61.8+ KB\n"
     ]
    }
   ],
   "source": [
    "df.info()"
   ]
  },
  {
   "cell_type": "code",
   "execution_count": 24,
   "metadata": {},
   "outputs": [],
   "source": [
    "df = df.drop(columns= ['Loan_ID']) #drop the column as it is merely a pointet and does not tell you more about the data"
   ]
  },
  {
   "cell_type": "markdown",
   "metadata": {},
   "source": [
    "As we can see, there are a number of categorical values in the given dataset, we convert them into numeric values"
   ]
  },
  {
   "cell_type": "markdown",
   "metadata": {},
   "source": [
    "2. Converting Categorical Data"
   ]
  },
  {
   "cell_type": "code",
   "execution_count": 25,
   "metadata": {},
   "outputs": [],
   "source": [
    "dummy_all = pd.get_dummies(data=df[['Gender','Married','Self_Employed','Property_Area','Dependents','Loan_Status']],drop_first=True)"
   ]
  },
  {
   "cell_type": "code",
   "execution_count": 26,
   "metadata": {},
   "outputs": [],
   "source": [
    "df = df.drop(columns=['Gender','Married','Self_Employed','Property_Area','Dependents','Loan_Status'])"
   ]
  },
  {
   "cell_type": "code",
   "execution_count": 27,
   "metadata": {},
   "outputs": [],
   "source": [
    "df = pd.concat([df,dummy_all],axis=1)"
   ]
  },
  {
   "cell_type": "code",
   "execution_count": 28,
   "metadata": {},
   "outputs": [],
   "source": [
    "ed_grad = pd.get_dummies(data=df['Education'])"
   ]
  },
  {
   "cell_type": "code",
   "execution_count": 29,
   "metadata": {},
   "outputs": [],
   "source": [
    "ed_grad = ed_grad.drop(columns =['Not Graduate'])"
   ]
  },
  {
   "cell_type": "code",
   "execution_count": 30,
   "metadata": {},
   "outputs": [],
   "source": [
    "df = pd.concat([df,ed_grad],axis=1)"
   ]
  },
  {
   "cell_type": "code",
   "execution_count": 31,
   "metadata": {},
   "outputs": [],
   "source": [
    "df = df.drop(columns=['Education'])"
   ]
  },
  {
   "cell_type": "code",
   "execution_count": 32,
   "metadata": {},
   "outputs": [
    {
     "data": {
      "text/html": [
       "<div>\n",
       "<style scoped>\n",
       "    .dataframe tbody tr th:only-of-type {\n",
       "        vertical-align: middle;\n",
       "    }\n",
       "\n",
       "    .dataframe tbody tr th {\n",
       "        vertical-align: top;\n",
       "    }\n",
       "\n",
       "    .dataframe thead th {\n",
       "        text-align: right;\n",
       "    }\n",
       "</style>\n",
       "<table border=\"1\" class=\"dataframe\">\n",
       "  <thead>\n",
       "    <tr style=\"text-align: right;\">\n",
       "      <th></th>\n",
       "      <th>ApplicantIncome</th>\n",
       "      <th>CoapplicantIncome</th>\n",
       "      <th>LoanAmount</th>\n",
       "      <th>Loan_Amount_Term</th>\n",
       "      <th>Credit_History</th>\n",
       "      <th>Gender_Male</th>\n",
       "      <th>Married_Yes</th>\n",
       "      <th>Self_Employed_Yes</th>\n",
       "      <th>Property_Area_Semiurban</th>\n",
       "      <th>Property_Area_Urban</th>\n",
       "      <th>Dependents_0</th>\n",
       "      <th>Dependents_1</th>\n",
       "      <th>Dependents_2</th>\n",
       "      <th>Dependents_3+</th>\n",
       "      <th>Loan_Status_Y</th>\n",
       "      <th>Graduate</th>\n",
       "    </tr>\n",
       "  </thead>\n",
       "  <tbody>\n",
       "    <tr>\n",
       "      <td>1</td>\n",
       "      <td>4583</td>\n",
       "      <td>1508.0</td>\n",
       "      <td>128.0</td>\n",
       "      <td>360.0</td>\n",
       "      <td>1.0</td>\n",
       "      <td>1</td>\n",
       "      <td>1</td>\n",
       "      <td>0</td>\n",
       "      <td>0</td>\n",
       "      <td>0</td>\n",
       "      <td>0</td>\n",
       "      <td>1</td>\n",
       "      <td>0</td>\n",
       "      <td>0</td>\n",
       "      <td>0</td>\n",
       "      <td>1</td>\n",
       "    </tr>\n",
       "    <tr>\n",
       "      <td>2</td>\n",
       "      <td>3000</td>\n",
       "      <td>0.0</td>\n",
       "      <td>66.0</td>\n",
       "      <td>360.0</td>\n",
       "      <td>1.0</td>\n",
       "      <td>1</td>\n",
       "      <td>1</td>\n",
       "      <td>1</td>\n",
       "      <td>0</td>\n",
       "      <td>1</td>\n",
       "      <td>1</td>\n",
       "      <td>0</td>\n",
       "      <td>0</td>\n",
       "      <td>0</td>\n",
       "      <td>1</td>\n",
       "      <td>1</td>\n",
       "    </tr>\n",
       "    <tr>\n",
       "      <td>3</td>\n",
       "      <td>2583</td>\n",
       "      <td>2358.0</td>\n",
       "      <td>120.0</td>\n",
       "      <td>360.0</td>\n",
       "      <td>1.0</td>\n",
       "      <td>1</td>\n",
       "      <td>1</td>\n",
       "      <td>0</td>\n",
       "      <td>0</td>\n",
       "      <td>1</td>\n",
       "      <td>1</td>\n",
       "      <td>0</td>\n",
       "      <td>0</td>\n",
       "      <td>0</td>\n",
       "      <td>1</td>\n",
       "      <td>0</td>\n",
       "    </tr>\n",
       "    <tr>\n",
       "      <td>4</td>\n",
       "      <td>6000</td>\n",
       "      <td>0.0</td>\n",
       "      <td>141.0</td>\n",
       "      <td>360.0</td>\n",
       "      <td>1.0</td>\n",
       "      <td>1</td>\n",
       "      <td>0</td>\n",
       "      <td>0</td>\n",
       "      <td>0</td>\n",
       "      <td>1</td>\n",
       "      <td>1</td>\n",
       "      <td>0</td>\n",
       "      <td>0</td>\n",
       "      <td>0</td>\n",
       "      <td>1</td>\n",
       "      <td>1</td>\n",
       "    </tr>\n",
       "    <tr>\n",
       "      <td>5</td>\n",
       "      <td>5417</td>\n",
       "      <td>4196.0</td>\n",
       "      <td>267.0</td>\n",
       "      <td>360.0</td>\n",
       "      <td>1.0</td>\n",
       "      <td>1</td>\n",
       "      <td>1</td>\n",
       "      <td>1</td>\n",
       "      <td>0</td>\n",
       "      <td>1</td>\n",
       "      <td>0</td>\n",
       "      <td>0</td>\n",
       "      <td>1</td>\n",
       "      <td>0</td>\n",
       "      <td>1</td>\n",
       "      <td>1</td>\n",
       "    </tr>\n",
       "  </tbody>\n",
       "</table>\n",
       "</div>"
      ],
      "text/plain": [
       "   ApplicantIncome  CoapplicantIncome  LoanAmount  Loan_Amount_Term  \\\n",
       "1             4583             1508.0       128.0             360.0   \n",
       "2             3000                0.0        66.0             360.0   \n",
       "3             2583             2358.0       120.0             360.0   \n",
       "4             6000                0.0       141.0             360.0   \n",
       "5             5417             4196.0       267.0             360.0   \n",
       "\n",
       "   Credit_History  Gender_Male  Married_Yes  Self_Employed_Yes  \\\n",
       "1             1.0            1            1                  0   \n",
       "2             1.0            1            1                  1   \n",
       "3             1.0            1            1                  0   \n",
       "4             1.0            1            0                  0   \n",
       "5             1.0            1            1                  1   \n",
       "\n",
       "   Property_Area_Semiurban  Property_Area_Urban  Dependents_0  Dependents_1  \\\n",
       "1                        0                    0             0             1   \n",
       "2                        0                    1             1             0   \n",
       "3                        0                    1             1             0   \n",
       "4                        0                    1             1             0   \n",
       "5                        0                    1             0             0   \n",
       "\n",
       "   Dependents_2  Dependents_3+  Loan_Status_Y  Graduate  \n",
       "1             0              0              0         1  \n",
       "2             0              0              1         1  \n",
       "3             0              0              1         0  \n",
       "4             0              0              1         1  \n",
       "5             1              0              1         1  "
      ]
     },
     "execution_count": 32,
     "metadata": {},
     "output_type": "execute_result"
    }
   ],
   "source": [
    "df.head()"
   ]
  },
  {
   "cell_type": "markdown",
   "metadata": {},
   "source": [
    "3. Creating heatmap to find correlation"
   ]
  },
  {
   "cell_type": "code",
   "execution_count": 33,
   "metadata": {},
   "outputs": [
    {
     "data": {
      "text/plain": [
       "<matplotlib.axes._subplots.AxesSubplot at 0x1bf4ba4a948>"
      ]
     },
     "execution_count": 33,
     "metadata": {},
     "output_type": "execute_result"
    },
    {
     "data": {
      "image/png": "[encoded data removed]",
      "text/plain": [
       "<Figure size 1080x720 with 2 Axes>"
      ]
     },
     "metadata": {
      "needs_background": "light"
     },
     "output_type": "display_data"
    }
   ],
   "source": [
    "plt.figure(figsize=(15,10))\n",
    "sns.heatmap(df.corr(),annot=True)"
   ]
  },
  {
   "cell_type": "markdown",
   "metadata": {},
   "source": [
    "Observation : Highest Correlation is observed between Loan Status with Credit History"
   ]
  },
  {
   "cell_type": "markdown",
   "metadata": {},
   "source": [
    "Building a Predictive Model"
   ]
  },
  {
   "cell_type": "code",
   "execution_count": 34,
   "metadata": {},
   "outputs": [],
   "source": [
    "from sklearn.model_selection import train_test_split"
   ]
  },
  {
   "cell_type": "code",
   "execution_count": 35,
   "metadata": {},
   "outputs": [],
   "source": [
    "X = df[['ApplicantIncome', 'CoapplicantIncome', 'LoanAmount',\n",
    "       'Loan_Amount_Term', 'Credit_History', 'Graduate',\n",
    "       'Gender_Male', 'Married_Yes', 'Self_Employed_Yes',\n",
    "       'Property_Area_Semiurban', 'Property_Area_Urban', 'Dependents_0',\n",
    "       'Dependents_1', 'Dependents_2', 'Dependents_3+']]\n",
    "y = df['Loan_Status_Y']"
   ]
  },
  {
   "cell_type": "code",
   "execution_count": 36,
   "metadata": {},
   "outputs": [],
   "source": [
    "X_train, X_test, y_train, y_test = train_test_split(X, y, test_size=0.3, random_state=101)"
   ]
  },
  {
   "cell_type": "markdown",
   "metadata": {},
   "source": [
    "Linear Regression"
   ]
  },
  {
   "cell_type": "code",
   "execution_count": 37,
   "metadata": {},
   "outputs": [],
   "source": [
    "from sklearn.linear_model import LinearRegression"
   ]
  },
  {
   "cell_type": "code",
   "execution_count": 38,
   "metadata": {},
   "outputs": [],
   "source": [
    "lm = LinearRegression()"
   ]
  },
  {
   "cell_type": "code",
   "execution_count": 39,
   "metadata": {},
   "outputs": [
    {
     "data": {
      "text/plain": [
       "LinearRegression(copy_X=True, fit_intercept=True, n_jobs=None, normalize=False)"
      ]
     },
     "execution_count": 39,
     "metadata": {},
     "output_type": "execute_result"
    }
   ],
   "source": [
    "lm.fit(X_train,y_train)"
   ]
  },
  {
   "cell_type": "code",
   "execution_count": 40,
   "metadata": {},
   "outputs": [
    {
     "name": "stdout",
     "output_type": "stream",
     "text": [
      "-0.0007672054716187926\n"
     ]
    }
   ],
   "source": [
    "print(lm.intercept_)"
   ]
  },
  {
   "cell_type": "code",
   "execution_count": 41,
   "metadata": {},
   "outputs": [
    {
     "data": {
      "text/html": [
       "<div>\n",
       "<style scoped>\n",
       "    .dataframe tbody tr th:only-of-type {\n",
       "        vertical-align: middle;\n",
       "    }\n",
       "\n",
       "    .dataframe tbody tr th {\n",
       "        vertical-align: top;\n",
       "    }\n",
       "\n",
       "    .dataframe thead th {\n",
       "        text-align: right;\n",
       "    }\n",
       "</style>\n",
       "<table border=\"1\" class=\"dataframe\">\n",
       "  <thead>\n",
       "    <tr style=\"text-align: right;\">\n",
       "      <th></th>\n",
       "      <th>Coefficient</th>\n",
       "    </tr>\n",
       "  </thead>\n",
       "  <tbody>\n",
       "    <tr>\n",
       "      <td>ApplicantIncome</td>\n",
       "      <td>0.000009</td>\n",
       "    </tr>\n",
       "    <tr>\n",
       "      <td>CoapplicantIncome</td>\n",
       "      <td>0.000014</td>\n",
       "    </tr>\n",
       "    <tr>\n",
       "      <td>LoanAmount</td>\n",
       "      <td>-0.000453</td>\n",
       "    </tr>\n",
       "    <tr>\n",
       "      <td>Loan_Amount_Term</td>\n",
       "      <td>0.000076</td>\n",
       "    </tr>\n",
       "    <tr>\n",
       "      <td>Credit_History</td>\n",
       "      <td>0.733024</td>\n",
       "    </tr>\n",
       "    <tr>\n",
       "      <td>Graduate</td>\n",
       "      <td>0.041890</td>\n",
       "    </tr>\n",
       "    <tr>\n",
       "      <td>Gender_Male</td>\n",
       "      <td>-0.003452</td>\n",
       "    </tr>\n",
       "    <tr>\n",
       "      <td>Married_Yes</td>\n",
       "      <td>0.063195</td>\n",
       "    </tr>\n",
       "    <tr>\n",
       "      <td>Self_Employed_Yes</td>\n",
       "      <td>-0.012739</td>\n",
       "    </tr>\n",
       "    <tr>\n",
       "      <td>Property_Area_Semiurban</td>\n",
       "      <td>0.112347</td>\n",
       "    </tr>\n",
       "    <tr>\n",
       "      <td>Property_Area_Urban</td>\n",
       "      <td>0.051647</td>\n",
       "    </tr>\n",
       "    <tr>\n",
       "      <td>Dependents_0</td>\n",
       "      <td>-0.083464</td>\n",
       "    </tr>\n",
       "    <tr>\n",
       "      <td>Dependents_1</td>\n",
       "      <td>-0.130624</td>\n",
       "    </tr>\n",
       "    <tr>\n",
       "      <td>Dependents_2</td>\n",
       "      <td>-0.024977</td>\n",
       "    </tr>\n",
       "    <tr>\n",
       "      <td>Dependents_3+</td>\n",
       "      <td>-0.049461</td>\n",
       "    </tr>\n",
       "  </tbody>\n",
       "</table>\n",
       "</div>"
      ],
      "text/plain": [
       "                         Coefficient\n",
       "ApplicantIncome             0.000009\n",
       "CoapplicantIncome           0.000014\n",
       "LoanAmount                 -0.000453\n",
       "Loan_Amount_Term            0.000076\n",
       "Credit_History              0.733024\n",
       "Graduate                    0.041890\n",
       "Gender_Male                -0.003452\n",
       "Married_Yes                 0.063195\n",
       "Self_Employed_Yes          -0.012739\n",
       "Property_Area_Semiurban     0.112347\n",
       "Property_Area_Urban         0.051647\n",
       "Dependents_0               -0.083464\n",
       "Dependents_1               -0.130624\n",
       "Dependents_2               -0.024977\n",
       "Dependents_3+              -0.049461"
      ]
     },
     "execution_count": 41,
     "metadata": {},
     "output_type": "execute_result"
    }
   ],
   "source": [
    "coeff_df = pd.DataFrame(lm.coef_,X.columns,columns=['Coefficient'])\n",
    "coeff_df"
   ]
  },
  {
   "cell_type": "code",
   "execution_count": 42,
   "metadata": {},
   "outputs": [],
   "source": [
    "predictions = lm.predict(X_test)"
   ]
  },
  {
   "cell_type": "code",
   "execution_count": 43,
   "metadata": {},
   "outputs": [],
   "source": [
    "y_test= y_test.to_numpy()\n",
    "y_test = pd.Series(y_test)"
   ]
  },
  {
   "cell_type": "code",
   "execution_count": 44,
   "metadata": {},
   "outputs": [
    {
     "data": {
      "text/html": [
       "<div>\n",
       "<style scoped>\n",
       "    .dataframe tbody tr th:only-of-type {\n",
       "        vertical-align: middle;\n",
       "    }\n",
       "\n",
       "    .dataframe tbody tr th {\n",
       "        vertical-align: top;\n",
       "    }\n",
       "\n",
       "    .dataframe thead th {\n",
       "        text-align: right;\n",
       "    }\n",
       "</style>\n",
       "<table border=\"1\" class=\"dataframe\">\n",
       "  <thead>\n",
       "    <tr style=\"text-align: right;\">\n",
       "      <th></th>\n",
       "      <th>Test True Y</th>\n",
       "      <th>Model Predictions</th>\n",
       "    </tr>\n",
       "  </thead>\n",
       "  <tbody>\n",
       "    <tr>\n",
       "      <td>0</td>\n",
       "      <td>1</td>\n",
       "      <td>0</td>\n",
       "    </tr>\n",
       "    <tr>\n",
       "      <td>1</td>\n",
       "      <td>1</td>\n",
       "      <td>0</td>\n",
       "    </tr>\n",
       "    <tr>\n",
       "      <td>2</td>\n",
       "      <td>0</td>\n",
       "      <td>0</td>\n",
       "    </tr>\n",
       "    <tr>\n",
       "      <td>3</td>\n",
       "      <td>0</td>\n",
       "      <td>0</td>\n",
       "    </tr>\n",
       "    <tr>\n",
       "      <td>4</td>\n",
       "      <td>1</td>\n",
       "      <td>0</td>\n",
       "    </tr>\n",
       "  </tbody>\n",
       "</table>\n",
       "</div>"
      ],
      "text/plain": [
       "   Test True Y  Model Predictions\n",
       "0            1                  0\n",
       "1            1                  0\n",
       "2            0                  0\n",
       "3            0                  0\n",
       "4            1                  0"
      ]
     },
     "execution_count": 44,
     "metadata": {},
     "output_type": "execute_result"
    }
   ],
   "source": [
    "pred_df = pd.DataFrame(y_test,columns=['Test True Y'])\n",
    "pred_rtc = pd.Series(predictions)\n",
    "pred_rtc = pred_rtc.astype(int)\n",
    "pred_df = pd.concat([pred_df,pred_rtc],axis=1)\n",
    "pred_df.columns=['Test True Y','Model Predictions']\n",
    "pred_df['Model Predictions'].astype(int)\n",
    "pred_df.head()"
   ]
  },
  {
   "cell_type": "code",
   "execution_count": 45,
   "metadata": {},
   "outputs": [],
   "source": [
    "result = []"
   ]
  },
  {
   "cell_type": "code",
   "execution_count": 46,
   "metadata": {},
   "outputs": [],
   "source": [
    "for i in range(len(pred_rtc)):\n",
    "    if(pred_rtc[i]==y_test[i]):\n",
    "        result.append('Correct')\n",
    "    else:\n",
    "        result.append('Wrong')"
   ]
  },
  {
   "cell_type": "code",
   "execution_count": 47,
   "metadata": {},
   "outputs": [],
   "source": [
    "result = pd.Series(result)"
   ]
  },
  {
   "cell_type": "code",
   "execution_count": 48,
   "metadata": {},
   "outputs": [],
   "source": [
    "pred_df = pd.concat([pred_df,result],axis=1)"
   ]
  },
  {
   "cell_type": "code",
   "execution_count": 49,
   "metadata": {},
   "outputs": [],
   "source": [
    "pred_df =pred_df.rename(columns={0:'Result'})"
   ]
  },
  {
   "cell_type": "code",
   "execution_count": 50,
   "metadata": {},
   "outputs": [
    {
     "data": {
      "text/plain": [
       "Wrong      117\n",
       "Correct     53\n",
       "Name: Result, dtype: int64"
      ]
     },
     "execution_count": 50,
     "metadata": {},
     "output_type": "execute_result"
    }
   ],
   "source": [
    "pred_df['Result'].value_counts()"
   ]
  },
  {
   "cell_type": "code",
   "execution_count": 51,
   "metadata": {},
   "outputs": [
    {
     "name": "stdout",
     "output_type": "stream",
     "text": [
      "MAE: 0.29035371471736726\n",
      "MSE: 0.15613485998350002\n",
      "RMSE: 0.3951390387996357\n"
     ]
    }
   ],
   "source": [
    "from sklearn import metrics\n",
    "print('MAE:', metrics.mean_absolute_error(y_test, predictions))\n",
    "print('MSE:', metrics.mean_squared_error(y_test, predictions))\n",
    "print('RMSE:', np.sqrt(metrics.mean_squared_error(y_test, predictions)))"
   ]
  },
  {
   "cell_type": "markdown",
   "metadata": {},
   "source": [
    "K-Nearest Neighbours"
   ]
  },
  {
   "cell_type": "code",
   "execution_count": 52,
   "metadata": {},
   "outputs": [],
   "source": [
    "from sklearn.preprocessing import StandardScaler"
   ]
  },
  {
   "cell_type": "code",
   "execution_count": 53,
   "metadata": {},
   "outputs": [],
   "source": [
    "scaler = StandardScaler()"
   ]
  },
  {
   "cell_type": "code",
   "execution_count": 54,
   "metadata": {},
   "outputs": [],
   "source": [
    "df_drop = df.drop(columns=['Loan_Status_Y'],axis=1)\n"
   ]
  },
  {
   "cell_type": "code",
   "execution_count": 55,
   "metadata": {},
   "outputs": [
    {
     "data": {
      "text/html": [
       "<div>\n",
       "<style scoped>\n",
       "    .dataframe tbody tr th:only-of-type {\n",
       "        vertical-align: middle;\n",
       "    }\n",
       "\n",
       "    .dataframe tbody tr th {\n",
       "        vertical-align: top;\n",
       "    }\n",
       "\n",
       "    .dataframe thead th {\n",
       "        text-align: right;\n",
       "    }\n",
       "</style>\n",
       "<table border=\"1\" class=\"dataframe\">\n",
       "  <thead>\n",
       "    <tr style=\"text-align: right;\">\n",
       "      <th></th>\n",
       "      <th>ApplicantIncome</th>\n",
       "      <th>CoapplicantIncome</th>\n",
       "      <th>LoanAmount</th>\n",
       "      <th>Loan_Amount_Term</th>\n",
       "      <th>Credit_History</th>\n",
       "      <th>Gender_Male</th>\n",
       "      <th>Married_Yes</th>\n",
       "      <th>Self_Employed_Yes</th>\n",
       "      <th>Property_Area_Semiurban</th>\n",
       "      <th>Property_Area_Urban</th>\n",
       "      <th>Dependents_0</th>\n",
       "      <th>Dependents_1</th>\n",
       "      <th>Dependents_2</th>\n",
       "      <th>Dependents_3+</th>\n",
       "      <th>Graduate</th>\n",
       "    </tr>\n",
       "  </thead>\n",
       "  <tbody>\n",
       "    <tr>\n",
       "      <td>1</td>\n",
       "      <td>4583</td>\n",
       "      <td>1508.0</td>\n",
       "      <td>128.0</td>\n",
       "      <td>360.0</td>\n",
       "      <td>1.0</td>\n",
       "      <td>1</td>\n",
       "      <td>1</td>\n",
       "      <td>0</td>\n",
       "      <td>0</td>\n",
       "      <td>0</td>\n",
       "      <td>0</td>\n",
       "      <td>1</td>\n",
       "      <td>0</td>\n",
       "      <td>0</td>\n",
       "      <td>1</td>\n",
       "    </tr>\n",
       "    <tr>\n",
       "      <td>2</td>\n",
       "      <td>3000</td>\n",
       "      <td>0.0</td>\n",
       "      <td>66.0</td>\n",
       "      <td>360.0</td>\n",
       "      <td>1.0</td>\n",
       "      <td>1</td>\n",
       "      <td>1</td>\n",
       "      <td>1</td>\n",
       "      <td>0</td>\n",
       "      <td>1</td>\n",
       "      <td>1</td>\n",
       "      <td>0</td>\n",
       "      <td>0</td>\n",
       "      <td>0</td>\n",
       "      <td>1</td>\n",
       "    </tr>\n",
       "    <tr>\n",
       "      <td>3</td>\n",
       "      <td>2583</td>\n",
       "      <td>2358.0</td>\n",
       "      <td>120.0</td>\n",
       "      <td>360.0</td>\n",
       "      <td>1.0</td>\n",
       "      <td>1</td>\n",
       "      <td>1</td>\n",
       "      <td>0</td>\n",
       "      <td>0</td>\n",
       "      <td>1</td>\n",
       "      <td>1</td>\n",
       "      <td>0</td>\n",
       "      <td>0</td>\n",
       "      <td>0</td>\n",
       "      <td>0</td>\n",
       "    </tr>\n",
       "    <tr>\n",
       "      <td>4</td>\n",
       "      <td>6000</td>\n",
       "      <td>0.0</td>\n",
       "      <td>141.0</td>\n",
       "      <td>360.0</td>\n",
       "      <td>1.0</td>\n",
       "      <td>1</td>\n",
       "      <td>0</td>\n",
       "      <td>0</td>\n",
       "      <td>0</td>\n",
       "      <td>1</td>\n",
       "      <td>1</td>\n",
       "      <td>0</td>\n",
       "      <td>0</td>\n",
       "      <td>0</td>\n",
       "      <td>1</td>\n",
       "    </tr>\n",
       "    <tr>\n",
       "      <td>5</td>\n",
       "      <td>5417</td>\n",
       "      <td>4196.0</td>\n",
       "      <td>267.0</td>\n",
       "      <td>360.0</td>\n",
       "      <td>1.0</td>\n",
       "      <td>1</td>\n",
       "      <td>1</td>\n",
       "      <td>1</td>\n",
       "      <td>0</td>\n",
       "      <td>1</td>\n",
       "      <td>0</td>\n",
       "      <td>0</td>\n",
       "      <td>1</td>\n",
       "      <td>0</td>\n",
       "      <td>1</td>\n",
       "    </tr>\n",
       "  </tbody>\n",
       "</table>\n",
       "</div>"
      ],
      "text/plain": [
       "   ApplicantIncome  CoapplicantIncome  LoanAmount  Loan_Amount_Term  \\\n",
       "1             4583             1508.0       128.0             360.0   \n",
       "2             3000                0.0        66.0             360.0   \n",
       "3             2583             2358.0       120.0             360.0   \n",
       "4             6000                0.0       141.0             360.0   \n",
       "5             5417             4196.0       267.0             360.0   \n",
       "\n",
       "   Credit_History  Gender_Male  Married_Yes  Self_Employed_Yes  \\\n",
       "1             1.0            1            1                  0   \n",
       "2             1.0            1            1                  1   \n",
       "3             1.0            1            1                  0   \n",
       "4             1.0            1            0                  0   \n",
       "5             1.0            1            1                  1   \n",
       "\n",
       "   Property_Area_Semiurban  Property_Area_Urban  Dependents_0  Dependents_1  \\\n",
       "1                        0                    0             0             1   \n",
       "2                        0                    1             1             0   \n",
       "3                        0                    1             1             0   \n",
       "4                        0                    1             1             0   \n",
       "5                        0                    1             0             0   \n",
       "\n",
       "   Dependents_2  Dependents_3+  Graduate  \n",
       "1             0              0         1  \n",
       "2             0              0         1  \n",
       "3             0              0         0  \n",
       "4             0              0         1  \n",
       "5             1              0         1  "
      ]
     },
     "execution_count": 55,
     "metadata": {},
     "output_type": "execute_result"
    }
   ],
   "source": [
    "df_drop.head()"
   ]
  },
  {
   "cell_type": "code",
   "execution_count": 56,
   "metadata": {},
   "outputs": [],
   "source": [
    "scaled_features= scaler.fit_transform(df_drop)"
   ]
  },
  {
   "cell_type": "code",
   "execution_count": 57,
   "metadata": {},
   "outputs": [
    {
     "data": {
      "text/html": [
       "<div>\n",
       "<style scoped>\n",
       "    .dataframe tbody tr th:only-of-type {\n",
       "        vertical-align: middle;\n",
       "    }\n",
       "\n",
       "    .dataframe tbody tr th {\n",
       "        vertical-align: top;\n",
       "    }\n",
       "\n",
       "    .dataframe thead th {\n",
       "        text-align: right;\n",
       "    }\n",
       "</style>\n",
       "<table border=\"1\" class=\"dataframe\">\n",
       "  <thead>\n",
       "    <tr style=\"text-align: right;\">\n",
       "      <th></th>\n",
       "      <th>0</th>\n",
       "      <th>1</th>\n",
       "      <th>2</th>\n",
       "      <th>3</th>\n",
       "      <th>4</th>\n",
       "      <th>5</th>\n",
       "      <th>6</th>\n",
       "      <th>7</th>\n",
       "      <th>8</th>\n",
       "      <th>9</th>\n",
       "      <th>10</th>\n",
       "      <th>11</th>\n",
       "      <th>12</th>\n",
       "      <th>13</th>\n",
       "      <th>14</th>\n",
       "    </tr>\n",
       "  </thead>\n",
       "  <tbody>\n",
       "    <tr>\n",
       "      <td>0</td>\n",
       "      <td>-0.068341</td>\n",
       "      <td>-0.009011</td>\n",
       "      <td>-0.183643</td>\n",
       "      <td>0.268972</td>\n",
       "      <td>0.397224</td>\n",
       "      <td>0.47497</td>\n",
       "      <td>0.731660</td>\n",
       "      <td>-0.469364</td>\n",
       "      <td>-0.798549</td>\n",
       "      <td>-0.678195</td>\n",
       "      <td>-1.134658</td>\n",
       "      <td>2.252836</td>\n",
       "      <td>-0.458094</td>\n",
       "      <td>-0.290608</td>\n",
       "      <td>0.522037</td>\n",
       "    </tr>\n",
       "    <tr>\n",
       "      <td>1</td>\n",
       "      <td>-0.556006</td>\n",
       "      <td>-0.729275</td>\n",
       "      <td>-1.066453</td>\n",
       "      <td>0.268972</td>\n",
       "      <td>0.397224</td>\n",
       "      <td>0.47497</td>\n",
       "      <td>0.731660</td>\n",
       "      <td>2.130544</td>\n",
       "      <td>-0.798549</td>\n",
       "      <td>1.474502</td>\n",
       "      <td>0.881323</td>\n",
       "      <td>-0.443885</td>\n",
       "      <td>-0.458094</td>\n",
       "      <td>-0.290608</td>\n",
       "      <td>0.522037</td>\n",
       "    </tr>\n",
       "    <tr>\n",
       "      <td>2</td>\n",
       "      <td>-0.684469</td>\n",
       "      <td>0.396974</td>\n",
       "      <td>-0.297554</td>\n",
       "      <td>0.268972</td>\n",
       "      <td>0.397224</td>\n",
       "      <td>0.47497</td>\n",
       "      <td>0.731660</td>\n",
       "      <td>-0.469364</td>\n",
       "      <td>-0.798549</td>\n",
       "      <td>1.474502</td>\n",
       "      <td>0.881323</td>\n",
       "      <td>-0.443885</td>\n",
       "      <td>-0.458094</td>\n",
       "      <td>-0.290608</td>\n",
       "      <td>-1.915573</td>\n",
       "    </tr>\n",
       "    <tr>\n",
       "      <td>3</td>\n",
       "      <td>0.368186</td>\n",
       "      <td>-0.729275</td>\n",
       "      <td>0.001462</td>\n",
       "      <td>0.268972</td>\n",
       "      <td>0.397224</td>\n",
       "      <td>0.47497</td>\n",
       "      <td>-1.366755</td>\n",
       "      <td>-0.469364</td>\n",
       "      <td>-0.798549</td>\n",
       "      <td>1.474502</td>\n",
       "      <td>0.881323</td>\n",
       "      <td>-0.443885</td>\n",
       "      <td>-0.458094</td>\n",
       "      <td>-0.290608</td>\n",
       "      <td>0.522037</td>\n",
       "    </tr>\n",
       "    <tr>\n",
       "      <td>4</td>\n",
       "      <td>0.188585</td>\n",
       "      <td>1.274856</td>\n",
       "      <td>1.795558</td>\n",
       "      <td>0.268972</td>\n",
       "      <td>0.397224</td>\n",
       "      <td>0.47497</td>\n",
       "      <td>0.731660</td>\n",
       "      <td>2.130544</td>\n",
       "      <td>-0.798549</td>\n",
       "      <td>1.474502</td>\n",
       "      <td>-1.134658</td>\n",
       "      <td>-0.443885</td>\n",
       "      <td>2.182958</td>\n",
       "      <td>-0.290608</td>\n",
       "      <td>0.522037</td>\n",
       "    </tr>\n",
       "  </tbody>\n",
       "</table>\n",
       "</div>"
      ],
      "text/plain": [
       "          0         1         2         3         4        5         6  \\\n",
       "0 -0.068341 -0.009011 -0.183643  0.268972  0.397224  0.47497  0.731660   \n",
       "1 -0.556006 -0.729275 -1.066453  0.268972  0.397224  0.47497  0.731660   \n",
       "2 -0.684469  0.396974 -0.297554  0.268972  0.397224  0.47497  0.731660   \n",
       "3  0.368186 -0.729275  0.001462  0.268972  0.397224  0.47497 -1.366755   \n",
       "4  0.188585  1.274856  1.795558  0.268972  0.397224  0.47497  0.731660   \n",
       "\n",
       "          7         8         9        10        11        12        13  \\\n",
       "0 -0.469364 -0.798549 -0.678195 -1.134658  2.252836 -0.458094 -0.290608   \n",
       "1  2.130544 -0.798549  1.474502  0.881323 -0.443885 -0.458094 -0.290608   \n",
       "2 -0.469364 -0.798549  1.474502  0.881323 -0.443885 -0.458094 -0.290608   \n",
       "3 -0.469364 -0.798549  1.474502  0.881323 -0.443885 -0.458094 -0.290608   \n",
       "4  2.130544 -0.798549  1.474502 -1.134658 -0.443885  2.182958 -0.290608   \n",
       "\n",
       "         14  \n",
       "0  0.522037  \n",
       "1  0.522037  \n",
       "2 -1.915573  \n",
       "3  0.522037  \n",
       "4  0.522037  "
      ]
     },
     "execution_count": 57,
     "metadata": {},
     "output_type": "execute_result"
    }
   ],
   "source": [
    "df_feat = pd.DataFrame(data=scaled_features)\n",
    "df_feat.head()"
   ]
  },
  {
   "cell_type": "code",
   "execution_count": null,
   "metadata": {},
   "outputs": [],
   "source": []
  },
  {
   "cell_type": "code",
   "execution_count": 58,
   "metadata": {},
   "outputs": [
    {
     "data": {
      "text/html": [
       "<div>\n",
       "<style scoped>\n",
       "    .dataframe tbody tr th:only-of-type {\n",
       "        vertical-align: middle;\n",
       "    }\n",
       "\n",
       "    .dataframe tbody tr th {\n",
       "        vertical-align: top;\n",
       "    }\n",
       "\n",
       "    .dataframe thead th {\n",
       "        text-align: right;\n",
       "    }\n",
       "</style>\n",
       "<table border=\"1\" class=\"dataframe\">\n",
       "  <thead>\n",
       "    <tr style=\"text-align: right;\">\n",
       "      <th></th>\n",
       "      <th>0</th>\n",
       "      <th>1</th>\n",
       "      <th>2</th>\n",
       "      <th>3</th>\n",
       "      <th>4</th>\n",
       "      <th>5</th>\n",
       "      <th>6</th>\n",
       "      <th>7</th>\n",
       "      <th>8</th>\n",
       "      <th>9</th>\n",
       "      <th>10</th>\n",
       "      <th>11</th>\n",
       "      <th>12</th>\n",
       "      <th>13</th>\n",
       "      <th>14</th>\n",
       "    </tr>\n",
       "  </thead>\n",
       "  <tbody>\n",
       "    <tr>\n",
       "      <td>0</td>\n",
       "      <td>-0.068341</td>\n",
       "      <td>-0.009011</td>\n",
       "      <td>-0.183643</td>\n",
       "      <td>0.268972</td>\n",
       "      <td>0.397224</td>\n",
       "      <td>0.474970</td>\n",
       "      <td>0.731660</td>\n",
       "      <td>-0.469364</td>\n",
       "      <td>-0.798549</td>\n",
       "      <td>-0.678195</td>\n",
       "      <td>-1.134658</td>\n",
       "      <td>2.252836</td>\n",
       "      <td>-0.458094</td>\n",
       "      <td>-0.290608</td>\n",
       "      <td>0.522037</td>\n",
       "    </tr>\n",
       "    <tr>\n",
       "      <td>1</td>\n",
       "      <td>-0.556006</td>\n",
       "      <td>-0.729275</td>\n",
       "      <td>-1.066453</td>\n",
       "      <td>0.268972</td>\n",
       "      <td>0.397224</td>\n",
       "      <td>0.474970</td>\n",
       "      <td>0.731660</td>\n",
       "      <td>2.130544</td>\n",
       "      <td>-0.798549</td>\n",
       "      <td>1.474502</td>\n",
       "      <td>0.881323</td>\n",
       "      <td>-0.443885</td>\n",
       "      <td>-0.458094</td>\n",
       "      <td>-0.290608</td>\n",
       "      <td>0.522037</td>\n",
       "    </tr>\n",
       "    <tr>\n",
       "      <td>2</td>\n",
       "      <td>-0.684469</td>\n",
       "      <td>0.396974</td>\n",
       "      <td>-0.297554</td>\n",
       "      <td>0.268972</td>\n",
       "      <td>0.397224</td>\n",
       "      <td>0.474970</td>\n",
       "      <td>0.731660</td>\n",
       "      <td>-0.469364</td>\n",
       "      <td>-0.798549</td>\n",
       "      <td>1.474502</td>\n",
       "      <td>0.881323</td>\n",
       "      <td>-0.443885</td>\n",
       "      <td>-0.458094</td>\n",
       "      <td>-0.290608</td>\n",
       "      <td>-1.915573</td>\n",
       "    </tr>\n",
       "    <tr>\n",
       "      <td>3</td>\n",
       "      <td>0.368186</td>\n",
       "      <td>-0.729275</td>\n",
       "      <td>0.001462</td>\n",
       "      <td>0.268972</td>\n",
       "      <td>0.397224</td>\n",
       "      <td>0.474970</td>\n",
       "      <td>-1.366755</td>\n",
       "      <td>-0.469364</td>\n",
       "      <td>-0.798549</td>\n",
       "      <td>1.474502</td>\n",
       "      <td>0.881323</td>\n",
       "      <td>-0.443885</td>\n",
       "      <td>-0.458094</td>\n",
       "      <td>-0.290608</td>\n",
       "      <td>0.522037</td>\n",
       "    </tr>\n",
       "    <tr>\n",
       "      <td>4</td>\n",
       "      <td>0.188585</td>\n",
       "      <td>1.274856</td>\n",
       "      <td>1.795558</td>\n",
       "      <td>0.268972</td>\n",
       "      <td>0.397224</td>\n",
       "      <td>0.474970</td>\n",
       "      <td>0.731660</td>\n",
       "      <td>2.130544</td>\n",
       "      <td>-0.798549</td>\n",
       "      <td>1.474502</td>\n",
       "      <td>-1.134658</td>\n",
       "      <td>-0.443885</td>\n",
       "      <td>2.182958</td>\n",
       "      <td>-0.290608</td>\n",
       "      <td>0.522037</td>\n",
       "    </tr>\n",
       "    <tr>\n",
       "      <td>...</td>\n",
       "      <td>...</td>\n",
       "      <td>...</td>\n",
       "      <td>...</td>\n",
       "      <td>...</td>\n",
       "      <td>...</td>\n",
       "      <td>...</td>\n",
       "      <td>...</td>\n",
       "      <td>...</td>\n",
       "      <td>...</td>\n",
       "      <td>...</td>\n",
       "      <td>...</td>\n",
       "      <td>...</td>\n",
       "      <td>...</td>\n",
       "      <td>...</td>\n",
       "      <td>...</td>\n",
       "    </tr>\n",
       "    <tr>\n",
       "      <td>560</td>\n",
       "      <td>-0.586813</td>\n",
       "      <td>-0.729275</td>\n",
       "      <td>-0.995259</td>\n",
       "      <td>0.268972</td>\n",
       "      <td>0.397224</td>\n",
       "      <td>-2.105396</td>\n",
       "      <td>-1.366755</td>\n",
       "      <td>-0.469364</td>\n",
       "      <td>-0.798549</td>\n",
       "      <td>-0.678195</td>\n",
       "      <td>0.881323</td>\n",
       "      <td>-0.443885</td>\n",
       "      <td>-0.458094</td>\n",
       "      <td>-0.290608</td>\n",
       "      <td>0.522037</td>\n",
       "    </tr>\n",
       "    <tr>\n",
       "      <td>561</td>\n",
       "      <td>-0.215287</td>\n",
       "      <td>-0.729275</td>\n",
       "      <td>-1.436663</td>\n",
       "      <td>-2.510956</td>\n",
       "      <td>0.397224</td>\n",
       "      <td>0.474970</td>\n",
       "      <td>0.731660</td>\n",
       "      <td>-0.469364</td>\n",
       "      <td>-0.798549</td>\n",
       "      <td>-0.678195</td>\n",
       "      <td>-1.134658</td>\n",
       "      <td>-0.443885</td>\n",
       "      <td>-0.458094</td>\n",
       "      <td>3.441062</td>\n",
       "      <td>0.522037</td>\n",
       "    </tr>\n",
       "    <tr>\n",
       "      <td>562</td>\n",
       "      <td>1.006495</td>\n",
       "      <td>-0.614644</td>\n",
       "      <td>1.596214</td>\n",
       "      <td>0.268972</td>\n",
       "      <td>0.397224</td>\n",
       "      <td>0.474970</td>\n",
       "      <td>0.731660</td>\n",
       "      <td>-0.469364</td>\n",
       "      <td>-0.798549</td>\n",
       "      <td>1.474502</td>\n",
       "      <td>-1.134658</td>\n",
       "      <td>2.252836</td>\n",
       "      <td>-0.458094</td>\n",
       "      <td>-0.290608</td>\n",
       "      <td>0.522037</td>\n",
       "    </tr>\n",
       "    <tr>\n",
       "      <td>563</td>\n",
       "      <td>0.855852</td>\n",
       "      <td>-0.729275</td>\n",
       "      <td>0.656449</td>\n",
       "      <td>0.268972</td>\n",
       "      <td>0.397224</td>\n",
       "      <td>0.474970</td>\n",
       "      <td>0.731660</td>\n",
       "      <td>-0.469364</td>\n",
       "      <td>-0.798549</td>\n",
       "      <td>1.474502</td>\n",
       "      <td>-1.134658</td>\n",
       "      <td>-0.443885</td>\n",
       "      <td>2.182958</td>\n",
       "      <td>-0.290608</td>\n",
       "      <td>0.522037</td>\n",
       "    </tr>\n",
       "    <tr>\n",
       "      <td>564</td>\n",
       "      <td>-0.068341</td>\n",
       "      <td>-0.729275</td>\n",
       "      <td>-0.112449</td>\n",
       "      <td>0.268972</td>\n",
       "      <td>-2.517471</td>\n",
       "      <td>-2.105396</td>\n",
       "      <td>-1.366755</td>\n",
       "      <td>2.130544</td>\n",
       "      <td>1.252271</td>\n",
       "      <td>-0.678195</td>\n",
       "      <td>0.881323</td>\n",
       "      <td>-0.443885</td>\n",
       "      <td>-0.458094</td>\n",
       "      <td>-0.290608</td>\n",
       "      <td>0.522037</td>\n",
       "    </tr>\n",
       "  </tbody>\n",
       "</table>\n",
       "<p>565 rows × 15 columns</p>\n",
       "</div>"
      ],
      "text/plain": [
       "            0         1         2         3         4         5         6  \\\n",
       "0   -0.068341 -0.009011 -0.183643  0.268972  0.397224  0.474970  0.731660   \n",
       "1   -0.556006 -0.729275 -1.066453  0.268972  0.397224  0.474970  0.731660   \n",
       "2   -0.684469  0.396974 -0.297554  0.268972  0.397224  0.474970  0.731660   \n",
       "3    0.368186 -0.729275  0.001462  0.268972  0.397224  0.474970 -1.366755   \n",
       "4    0.188585  1.274856  1.795558  0.268972  0.397224  0.474970  0.731660   \n",
       "..        ...       ...       ...       ...       ...       ...       ...   \n",
       "560 -0.586813 -0.729275 -0.995259  0.268972  0.397224 -2.105396 -1.366755   \n",
       "561 -0.215287 -0.729275 -1.436663 -2.510956  0.397224  0.474970  0.731660   \n",
       "562  1.006495 -0.614644  1.596214  0.268972  0.397224  0.474970  0.731660   \n",
       "563  0.855852 -0.729275  0.656449  0.268972  0.397224  0.474970  0.731660   \n",
       "564 -0.068341 -0.729275 -0.112449  0.268972 -2.517471 -2.105396 -1.366755   \n",
       "\n",
       "            7         8         9        10        11        12        13  \\\n",
       "0   -0.469364 -0.798549 -0.678195 -1.134658  2.252836 -0.458094 -0.290608   \n",
       "1    2.130544 -0.798549  1.474502  0.881323 -0.443885 -0.458094 -0.290608   \n",
       "2   -0.469364 -0.798549  1.474502  0.881323 -0.443885 -0.458094 -0.290608   \n",
       "3   -0.469364 -0.798549  1.474502  0.881323 -0.443885 -0.458094 -0.290608   \n",
       "4    2.130544 -0.798549  1.474502 -1.134658 -0.443885  2.182958 -0.290608   \n",
       "..        ...       ...       ...       ...       ...       ...       ...   \n",
       "560 -0.469364 -0.798549 -0.678195  0.881323 -0.443885 -0.458094 -0.290608   \n",
       "561 -0.469364 -0.798549 -0.678195 -1.134658 -0.443885 -0.458094  3.441062   \n",
       "562 -0.469364 -0.798549  1.474502 -1.134658  2.252836 -0.458094 -0.290608   \n",
       "563 -0.469364 -0.798549  1.474502 -1.134658 -0.443885  2.182958 -0.290608   \n",
       "564  2.130544  1.252271 -0.678195  0.881323 -0.443885 -0.458094 -0.290608   \n",
       "\n",
       "           14  \n",
       "0    0.522037  \n",
       "1    0.522037  \n",
       "2   -1.915573  \n",
       "3    0.522037  \n",
       "4    0.522037  \n",
       "..        ...  \n",
       "560  0.522037  \n",
       "561  0.522037  \n",
       "562  0.522037  \n",
       "563  0.522037  \n",
       "564  0.522037  \n",
       "\n",
       "[565 rows x 15 columns]"
      ]
     },
     "execution_count": 58,
     "metadata": {},
     "output_type": "execute_result"
    }
   ],
   "source": [
    "df_feat"
   ]
  },
  {
   "cell_type": "code",
   "execution_count": 59,
   "metadata": {},
   "outputs": [],
   "source": [
    "X=df_feat\n",
    "y=df['Loan_Status_Y']    \n",
    "X_train, X_test, y_train, y_test = train_test_split(X, y, test_size=0.3, random_state=101)"
   ]
  },
  {
   "cell_type": "code",
   "execution_count": 60,
   "metadata": {},
   "outputs": [],
   "source": [
    "from sklearn.neighbors import KNeighborsClassifier"
   ]
  },
  {
   "cell_type": "markdown",
   "metadata": {},
   "source": [
    "Choosing a K Value"
   ]
  },
  {
   "cell_type": "code",
   "execution_count": 61,
   "metadata": {},
   "outputs": [],
   "source": [
    "error_rate=[]\n",
    "for i in range(1,40):\n",
    "    knn = KNeighborsClassifier(n_neighbors=i)\n",
    "    knn.fit(X_train,y_train)\n",
    "    pred_i= knn.predict(X_test)\n",
    "    error_rate.append(np.mean(pred_i!=y_test))"
   ]
  },
  {
   "cell_type": "code",
   "execution_count": 62,
   "metadata": {},
   "outputs": [
    {
     "data": {
      "text/plain": [
       "[<matplotlib.lines.Line2D at 0x1bf4c095208>]"
      ]
     },
     "execution_count": 62,
     "metadata": {},
     "output_type": "execute_result"
    },
    {
     "data": {
      "image/png": "[encoded data removed]",
      "text/plain": [
       "<Figure size 720x432 with 1 Axes>"
      ]
     },
     "metadata": {
      "needs_background": "light"
     },
     "output_type": "display_data"
    }
   ],
   "source": [
    "plt.figure(figsize=(10,6))\n",
    "plt.plot(range(1,40),error_rate,color='blue',mfc='red',marker='o')"
   ]
  },
  {
   "cell_type": "markdown",
   "metadata": {},
   "source": [
    "We choose K value as 11 i.e K=18"
   ]
  },
  {
   "cell_type": "code",
   "execution_count": 63,
   "metadata": {},
   "outputs": [],
   "source": [
    "from sklearn.metrics import confusion_matrix, classification_report"
   ]
  },
  {
   "cell_type": "code",
   "execution_count": 64,
   "metadata": {},
   "outputs": [
    {
     "name": "stdout",
     "output_type": "stream",
     "text": [
      "              precision    recall  f1-score   support\n",
      "\n",
      "           0       1.00      0.33      0.50        54\n",
      "           1       0.76      1.00      0.87       116\n",
      "\n",
      "    accuracy                           0.79       170\n",
      "   macro avg       0.88      0.67      0.68       170\n",
      "weighted avg       0.84      0.79      0.75       170\n",
      "\n"
     ]
    }
   ],
   "source": [
    "knn = KNeighborsClassifier(n_neighbors=18)\n",
    "knn.fit(X_train,y_train)\n",
    "pred=knn.predict(X_test)\n",
    "print(classification_report(y_test,pred))"
   ]
  },
  {
   "cell_type": "markdown",
   "metadata": {},
   "source": [
    "Logistic Regression"
   ]
  },
  {
   "cell_type": "code",
   "execution_count": 65,
   "metadata": {},
   "outputs": [],
   "source": [
    "from sklearn.linear_model import LogisticRegression"
   ]
  },
  {
   "cell_type": "code",
   "execution_count": 66,
   "metadata": {},
   "outputs": [
    {
     "data": {
      "text/plain": [
       "LogisticRegression(C=1.0, class_weight=None, dual=False, fit_intercept=True,\n",
       "                   intercept_scaling=1, l1_ratio=None, max_iter=100,\n",
       "                   multi_class='auto', n_jobs=None, penalty='l2',\n",
       "                   random_state=None, solver='lbfgs', tol=0.0001, verbose=0,\n",
       "                   warm_start=False)"
      ]
     },
     "execution_count": 66,
     "metadata": {},
     "output_type": "execute_result"
    }
   ],
   "source": [
    "lm = LogisticRegression()\n",
    "lm.fit(X_train,y_train)"
   ]
  },
  {
   "cell_type": "code",
   "execution_count": 67,
   "metadata": {},
   "outputs": [
    {
     "name": "stdout",
     "output_type": "stream",
     "text": [
      "              precision    recall  f1-score   support\n",
      "\n",
      "           0       0.91      0.39      0.55        54\n",
      "           1       0.78      0.98      0.87       116\n",
      "\n",
      "    accuracy                           0.79       170\n",
      "   macro avg       0.84      0.69      0.71       170\n",
      "weighted avg       0.82      0.79      0.76       170\n",
      "\n"
     ]
    }
   ],
   "source": [
    "pred = lm.predict(X_test)\n",
    "print(classification_report(y_test,pred))"
   ]
  },
  {
   "cell_type": "markdown",
   "metadata": {},
   "source": [
    "Support Vector Machines"
   ]
  },
  {
   "cell_type": "code",
   "execution_count": 68,
   "metadata": {},
   "outputs": [],
   "source": [
    "from sklearn.svm import SVC"
   ]
  },
  {
   "cell_type": "code",
   "execution_count": 69,
   "metadata": {},
   "outputs": [],
   "source": [
    "model = SVC()"
   ]
  },
  {
   "cell_type": "code",
   "execution_count": 70,
   "metadata": {},
   "outputs": [
    {
     "data": {
      "text/plain": [
       "SVC(C=1.0, break_ties=False, cache_size=200, class_weight=None, coef0=0.0,\n",
       "    decision_function_shape='ovr', degree=3, gamma='scale', kernel='rbf',\n",
       "    max_iter=-1, probability=False, random_state=None, shrinking=True,\n",
       "    tol=0.001, verbose=False)"
      ]
     },
     "execution_count": 70,
     "metadata": {},
     "output_type": "execute_result"
    }
   ],
   "source": [
    "model.fit(X_train,y_train)"
   ]
  },
  {
   "cell_type": "code",
   "execution_count": 71,
   "metadata": {},
   "outputs": [],
   "source": [
    "predictions = model.predict(X_test)"
   ]
  },
  {
   "cell_type": "code",
   "execution_count": 72,
   "metadata": {},
   "outputs": [
    {
     "name": "stdout",
     "output_type": "stream",
     "text": [
      "              precision    recall  f1-score   support\n",
      "\n",
      "           0       0.91      0.39      0.55        54\n",
      "           1       0.78      0.98      0.87       116\n",
      "\n",
      "    accuracy                           0.79       170\n",
      "   macro avg       0.84      0.69      0.71       170\n",
      "weighted avg       0.82      0.79      0.76       170\n",
      "\n"
     ]
    }
   ],
   "source": [
    "print(classification_report(y_test,predictions))"
   ]
  },
  {
   "cell_type": "markdown",
   "metadata": {},
   "source": [
    "Random Forest Classifier"
   ]
  },
  {
   "cell_type": "code",
   "execution_count": 73,
   "metadata": {},
   "outputs": [],
   "source": [
    "from sklearn.ensemble import RandomForestClassifier"
   ]
  },
  {
   "cell_type": "code",
   "execution_count": 74,
   "metadata": {},
   "outputs": [],
   "source": [
    "rtc = RandomForestClassifier(n_estimators=600)"
   ]
  },
  {
   "cell_type": "code",
   "execution_count": 75,
   "metadata": {},
   "outputs": [
    {
     "data": {
      "text/plain": [
       "RandomForestClassifier(bootstrap=True, ccp_alpha=0.0, class_weight=None,\n",
       "                       criterion='gini', max_depth=None, max_features='auto',\n",
       "                       max_leaf_nodes=None, max_samples=None,\n",
       "                       min_impurity_decrease=0.0, min_impurity_split=None,\n",
       "                       min_samples_leaf=1, min_samples_split=2,\n",
       "                       min_weight_fraction_leaf=0.0, n_estimators=600,\n",
       "                       n_jobs=None, oob_score=False, random_state=None,\n",
       "                       verbose=0, warm_start=False)"
      ]
     },
     "execution_count": 75,
     "metadata": {},
     "output_type": "execute_result"
    }
   ],
   "source": [
    "rtc.fit(X_train,y_train)"
   ]
  },
  {
   "cell_type": "code",
   "execution_count": 76,
   "metadata": {},
   "outputs": [],
   "source": [
    "pred_rtc= rtc.predict(X_test) "
   ]
  },
  {
   "cell_type": "code",
   "execution_count": 77,
   "metadata": {},
   "outputs": [
    {
     "name": "stdout",
     "output_type": "stream",
     "text": [
      "              precision    recall  f1-score   support\n",
      "\n",
      "           0       0.75      0.39      0.51        54\n",
      "           1       0.77      0.94      0.84       116\n",
      "\n",
      "    accuracy                           0.76       170\n",
      "   macro avg       0.76      0.66      0.68       170\n",
      "weighted avg       0.76      0.76      0.74       170\n",
      "\n",
      "[[ 21  33]\n",
      " [  7 109]]\n"
     ]
    }
   ],
   "source": [
    "print(classification_report(y_test,pred_rtc))\n",
    "print(confusion_matrix(y_test,pred_rtc))"
   ]
  },
  {
   "cell_type": "markdown",
   "metadata": {},
   "source": [
    "Observation: The highest accuracy was shown by Logistic Regression and Support Vector Machines at around 79% followed by Random forest and KNN at around 76%. The lowest of all was provided by Linear Regression."
   ]
  },
  {
   "cell_type": "markdown",
   "metadata": {},
   "source": [
    "Neural Network ANNs"
   ]
  },
  {
   "cell_type": "code",
   "execution_count": 78,
   "metadata": {},
   "outputs": [],
   "source": [
    "import tensorflow as tf\n",
    "from tensorflow.keras.models import Sequential\n",
    "from tensorflow.keras.layers import Dense, Activation,Dropout\n",
    "from tensorflow.keras.callbacks import EarlyStopping"
   ]
  },
  {
   "cell_type": "code",
   "execution_count": 79,
   "metadata": {},
   "outputs": [],
   "source": [
    "X_train = X_train.values\n",
    "y_train = y_train.values"
   ]
  },
  {
   "cell_type": "code",
   "execution_count": 80,
   "metadata": {},
   "outputs": [],
   "source": [
    "model = Sequential()\n",
    "\n",
    "# https://stats.stackexchange.com/questions/181/how-to-choose-the-number-of-hidden-layers-and-nodes-in-a-feedforward-neural-netw\n",
    "\n",
    "model.add(Dense(units=15,activation='relu'))\n",
    "model.add(Dropout(0.3))\n",
    "model.add(Dense(units = 8,activation='relu'))\n",
    "model.add(Dropout(0.3))\n",
    "model.add(Dense(units = 4,activation='relu'))\n",
    "model.add(Dropout(0.3))\n",
    "\n",
    "\n",
    "model.add(Dense(units=1,activation='sigmoid'))\n",
    "\n",
    "# For a binary classification problem\n",
    "model.compile(loss='binary_crossentropy', optimizer='adam')"
   ]
  },
  {
   "cell_type": "code",
   "execution_count": 81,
   "metadata": {},
   "outputs": [],
   "source": [
    "early_stop = EarlyStopping(monitor='val_loss', mode='min', verbose=1, patience=25)"
   ]
  },
  {
   "cell_type": "code",
   "execution_count": 82,
   "metadata": {},
   "outputs": [
    {
     "name": "stdout",
     "output_type": "stream",
     "text": [
      "Train on 395 samples, validate on 170 samples\n",
      "Epoch 1/1000\n",
      "395/395 [==============================] - 1s 3ms/sample - loss: 0.7888 - val_loss: 0.7385\n",
      "Epoch 2/1000\n",
      "395/395 [==============================] - 0s 144us/sample - loss: 0.7473 - val_loss: 0.7142\n",
      "Epoch 3/1000\n",
      "395/395 [==============================] - 0s 143us/sample - loss: 0.7322 - val_loss: 0.6939\n",
      "Epoch 4/1000\n",
      "395/395 [==============================] - 0s 137us/sample - loss: 0.7076 - val_loss: 0.6791\n",
      "Epoch 5/1000\n",
      "395/395 [==============================] - 0s 143us/sample - loss: 0.6949 - val_loss: 0.6690\n",
      "Epoch 6/1000\n",
      "395/395 [==============================] - 0s 149us/sample - loss: 0.6855 - val_loss: 0.6600\n",
      "Epoch 7/1000\n",
      "395/395 [==============================] - 0s 154us/sample - loss: 0.6541 - val_loss: 0.6525\n",
      "Epoch 8/1000\n",
      "395/395 [==============================] - 0s 144us/sample - loss: 0.6502 - val_loss: 0.6458\n",
      "Epoch 9/1000\n",
      "395/395 [==============================] - 0s 165us/sample - loss: 0.6711 - val_loss: 0.6399\n",
      "Epoch 10/1000\n",
      "395/395 [==============================] - 0s 138us/sample - loss: 0.6485 - val_loss: 0.6346\n",
      "Epoch 11/1000\n",
      "395/395 [==============================] - 0s 148us/sample - loss: 0.6515 - val_loss: 0.6292\n",
      "Epoch 12/1000\n",
      "395/395 [==============================] - 0s 141us/sample - loss: 0.6345 - val_loss: 0.6251\n",
      "Epoch 13/1000\n",
      "395/395 [==============================] - 0s 136us/sample - loss: 0.6351 - val_loss: 0.6210\n",
      "Epoch 14/1000\n",
      "395/395 [==============================] - 0s 131us/sample - loss: 0.6371 - val_loss: 0.6168\n",
      "Epoch 15/1000\n",
      "395/395 [==============================] - 0s 136us/sample - loss: 0.5964 - val_loss: 0.6111\n",
      "Epoch 16/1000\n",
      "395/395 [==============================] - 0s 132us/sample - loss: 0.6286 - val_loss: 0.6070\n",
      "Epoch 17/1000\n",
      "395/395 [==============================] - 0s 137us/sample - loss: 0.6200 - val_loss: 0.6030\n",
      "Epoch 18/1000\n",
      "395/395 [==============================] - 0s 142us/sample - loss: 0.6219 - val_loss: 0.5985\n",
      "Epoch 19/1000\n",
      "395/395 [==============================] - 0s 136us/sample - loss: 0.5950 - val_loss: 0.5937\n",
      "Epoch 20/1000\n",
      "395/395 [==============================] - 0s 149us/sample - loss: 0.5836 - val_loss: 0.5887\n",
      "Epoch 21/1000\n",
      "395/395 [==============================] - 0s 151us/sample - loss: 0.6021 - val_loss: 0.5846\n",
      "Epoch 22/1000\n",
      "395/395 [==============================] - 0s 171us/sample - loss: 0.6074 - val_loss: 0.5827\n",
      "Epoch 23/1000\n",
      "395/395 [==============================] - 0s 134us/sample - loss: 0.5929 - val_loss: 0.5776\n",
      "Epoch 24/1000\n",
      "395/395 [==============================] - 0s 137us/sample - loss: 0.5888 - val_loss: 0.5740\n",
      "Epoch 25/1000\n",
      "395/395 [==============================] - 0s 132us/sample - loss: 0.5915 - val_loss: 0.5697\n",
      "Epoch 26/1000\n",
      "395/395 [==============================] - 0s 141us/sample - loss: 0.5875 - val_loss: 0.5665\n",
      "Epoch 27/1000\n",
      "395/395 [==============================] - 0s 148us/sample - loss: 0.5526 - val_loss: 0.5622\n",
      "Epoch 28/1000\n",
      "395/395 [==============================] - 0s 143us/sample - loss: 0.5746 - val_loss: 0.5574\n",
      "Epoch 29/1000\n",
      "395/395 [==============================] - 0s 137us/sample - loss: 0.5770 - val_loss: 0.5542\n",
      "Epoch 30/1000\n",
      "395/395 [==============================] - 0s 143us/sample - loss: 0.5670 - val_loss: 0.5516\n",
      "Epoch 31/1000\n",
      "395/395 [==============================] - 0s 132us/sample - loss: 0.5739 - val_loss: 0.5481\n",
      "Epoch 32/1000\n",
      "395/395 [==============================] - 0s 139us/sample - loss: 0.5562 - val_loss: 0.5451\n",
      "Epoch 33/1000\n",
      "395/395 [==============================] - 0s 137us/sample - loss: 0.5578 - val_loss: 0.5409\n",
      "Epoch 34/1000\n",
      "395/395 [==============================] - 0s 134us/sample - loss: 0.5521 - val_loss: 0.5361\n",
      "Epoch 35/1000\n",
      "395/395 [==============================] - 0s 148us/sample - loss: 0.5641 - val_loss: 0.5334\n",
      "Epoch 36/1000\n",
      "395/395 [==============================] - 0s 137us/sample - loss: 0.5543 - val_loss: 0.5313\n",
      "Epoch 37/1000\n",
      "395/395 [==============================] - 0s 146us/sample - loss: 0.5458 - val_loss: 0.5292\n",
      "Epoch 38/1000\n",
      "395/395 [==============================] - 0s 140us/sample - loss: 0.5582 - val_loss: 0.5288\n",
      "Epoch 39/1000\n",
      "395/395 [==============================] - 0s 132us/sample - loss: 0.5504 - val_loss: 0.5265\n",
      "Epoch 40/1000\n",
      "395/395 [==============================] - 0s 146us/sample - loss: 0.5397 - val_loss: 0.5251\n",
      "Epoch 41/1000\n",
      "395/395 [==============================] - 0s 144us/sample - loss: 0.5626 - val_loss: 0.5245\n",
      "Epoch 42/1000\n",
      "395/395 [==============================] - 0s 136us/sample - loss: 0.5334 - val_loss: 0.5244\n",
      "Epoch 43/1000\n",
      "395/395 [==============================] - 0s 137us/sample - loss: 0.5406 - val_loss: 0.5228\n",
      "Epoch 44/1000\n",
      "395/395 [==============================] - 0s 142us/sample - loss: 0.5334 - val_loss: 0.5218\n",
      "Epoch 45/1000\n",
      "395/395 [==============================] - 0s 141us/sample - loss: 0.5721 - val_loss: 0.5201\n",
      "Epoch 46/1000\n",
      "395/395 [==============================] - 0s 139us/sample - loss: 0.5352 - val_loss: 0.5192\n",
      "Epoch 47/1000\n",
      "395/395 [==============================] - 0s 132us/sample - loss: 0.5111 - val_loss: 0.5170\n",
      "Epoch 48/1000\n",
      "395/395 [==============================] - 0s 138us/sample - loss: 0.5350 - val_loss: 0.5147\n",
      "Epoch 49/1000\n",
      "395/395 [==============================] - 0s 132us/sample - loss: 0.5255 - val_loss: 0.5125\n",
      "Epoch 50/1000\n",
      "395/395 [==============================] - 0s 137us/sample - loss: 0.5207 - val_loss: 0.5091\n",
      "Epoch 51/1000\n",
      "395/395 [==============================] - 0s 155us/sample - loss: 0.5299 - val_loss: 0.5071\n",
      "Epoch 52/1000\n",
      "395/395 [==============================] - 0s 147us/sample - loss: 0.5160 - val_loss: 0.5047\n",
      "Epoch 53/1000\n",
      "395/395 [==============================] - 0s 140us/sample - loss: 0.5496 - val_loss: 0.5039\n",
      "Epoch 54/1000\n",
      "395/395 [==============================] - 0s 146us/sample - loss: 0.5077 - val_loss: 0.5014\n",
      "Epoch 55/1000\n",
      "395/395 [==============================] - 0s 146us/sample - loss: 0.5077 - val_loss: 0.4997\n",
      "Epoch 56/1000\n",
      "395/395 [==============================] - 0s 142us/sample - loss: 0.5369 - val_loss: 0.4992\n",
      "Epoch 57/1000\n",
      "395/395 [==============================] - 0s 140us/sample - loss: 0.5633 - val_loss: 0.4993\n",
      "Epoch 58/1000\n",
      "395/395 [==============================] - 0s 138us/sample - loss: 0.5507 - val_loss: 0.4996\n",
      "Epoch 59/1000\n",
      "395/395 [==============================] - 0s 133us/sample - loss: 0.5142 - val_loss: 0.4985\n",
      "Epoch 60/1000\n",
      "395/395 [==============================] - 0s 144us/sample - loss: 0.5398 - val_loss: 0.4976\n",
      "Epoch 61/1000\n",
      "395/395 [==============================] - 0s 140us/sample - loss: 0.5126 - val_loss: 0.4960\n",
      "Epoch 62/1000\n",
      "395/395 [==============================] - 0s 134us/sample - loss: 0.5241 - val_loss: 0.4953\n",
      "Epoch 63/1000\n",
      "395/395 [==============================] - 0s 142us/sample - loss: 0.5180 - val_loss: 0.4959\n",
      "Epoch 64/1000\n",
      "395/395 [==============================] - 0s 140us/sample - loss: 0.5258 - val_loss: 0.4958\n",
      "Epoch 65/1000\n",
      "395/395 [==============================] - 0s 145us/sample - loss: 0.5241 - val_loss: 0.4951\n",
      "Epoch 66/1000\n",
      "395/395 [==============================] - 0s 152us/sample - loss: 0.5139 - val_loss: 0.4953\n",
      "Epoch 67/1000\n",
      "395/395 [==============================] - 0s 139us/sample - loss: 0.5158 - val_loss: 0.4939\n",
      "Epoch 68/1000\n",
      "395/395 [==============================] - 0s 132us/sample - loss: 0.4868 - val_loss: 0.4919\n",
      "Epoch 69/1000\n",
      "395/395 [==============================] - 0s 148us/sample - loss: 0.5052 - val_loss: 0.4909\n",
      "Epoch 70/1000\n",
      "395/395 [==============================] - 0s 137us/sample - loss: 0.5155 - val_loss: 0.4896\n",
      "Epoch 71/1000\n",
      "395/395 [==============================] - 0s 145us/sample - loss: 0.5100 - val_loss: 0.4883\n",
      "Epoch 72/1000\n",
      "395/395 [==============================] - 0s 144us/sample - loss: 0.5114 - val_loss: 0.4874\n",
      "Epoch 73/1000\n",
      "395/395 [==============================] - 0s 134us/sample - loss: 0.5214 - val_loss: 0.4876\n",
      "Epoch 74/1000\n",
      "395/395 [==============================] - 0s 144us/sample - loss: 0.4803 - val_loss: 0.4880\n",
      "Epoch 75/1000\n",
      "395/395 [==============================] - 0s 139us/sample - loss: 0.4953 - val_loss: 0.4876\n",
      "Epoch 76/1000\n",
      "395/395 [==============================] - 0s 142us/sample - loss: 0.4749 - val_loss: 0.4871\n",
      "Epoch 77/1000\n",
      "395/395 [==============================] - 0s 139us/sample - loss: 0.5096 - val_loss: 0.4865\n",
      "Epoch 78/1000\n",
      "395/395 [==============================] - 0s 137us/sample - loss: 0.5102 - val_loss: 0.4880\n",
      "Epoch 79/1000\n",
      "395/395 [==============================] - 0s 131us/sample - loss: 0.5066 - val_loss: 0.4881\n",
      "Epoch 80/1000\n",
      "395/395 [==============================] - 0s 140us/sample - loss: 0.4889 - val_loss: 0.4880\n",
      "Epoch 81/1000\n",
      "395/395 [==============================] - 0s 136us/sample - loss: 0.4890 - val_loss: 0.4883\n",
      "Epoch 82/1000\n",
      "395/395 [==============================] - 0s 148us/sample - loss: 0.4871 - val_loss: 0.4871\n",
      "Epoch 83/1000\n",
      "395/395 [==============================] - 0s 143us/sample - loss: 0.4841 - val_loss: 0.4870\n",
      "Epoch 84/1000\n",
      "395/395 [==============================] - 0s 147us/sample - loss: 0.4768 - val_loss: 0.4853\n",
      "Epoch 85/1000\n",
      "395/395 [==============================] - 0s 137us/sample - loss: 0.5316 - val_loss: 0.4848\n",
      "Epoch 86/1000\n",
      "395/395 [==============================] - 0s 136us/sample - loss: 0.4840 - val_loss: 0.4851\n",
      "Epoch 87/1000\n",
      "395/395 [==============================] - 0s 140us/sample - loss: 0.5034 - val_loss: 0.4850\n",
      "Epoch 88/1000\n",
      "395/395 [==============================] - 0s 142us/sample - loss: 0.4876 - val_loss: 0.4845\n",
      "Epoch 89/1000\n",
      "395/395 [==============================] - 0s 132us/sample - loss: 0.4786 - val_loss: 0.4832\n",
      "Epoch 90/1000\n",
      "395/395 [==============================] - 0s 139us/sample - loss: 0.4786 - val_loss: 0.4829\n",
      "Epoch 91/1000\n",
      "395/395 [==============================] - 0s 147us/sample - loss: 0.4823 - val_loss: 0.4825\n",
      "Epoch 92/1000\n",
      "395/395 [==============================] - 0s 139us/sample - loss: 0.4846 - val_loss: 0.4825\n",
      "Epoch 93/1000\n",
      "395/395 [==============================] - 0s 138us/sample - loss: 0.4572 - val_loss: 0.4827\n",
      "Epoch 94/1000\n",
      "395/395 [==============================] - 0s 146us/sample - loss: 0.4782 - val_loss: 0.4820\n",
      "Epoch 95/1000\n",
      "395/395 [==============================] - 0s 155us/sample - loss: 0.4727 - val_loss: 0.4821\n",
      "Epoch 96/1000\n",
      "395/395 [==============================] - 0s 147us/sample - loss: 0.4889 - val_loss: 0.4821\n",
      "Epoch 97/1000\n",
      "395/395 [==============================] - 0s 169us/sample - loss: 0.4763 - val_loss: 0.4827\n",
      "Epoch 98/1000\n",
      "395/395 [==============================] - 0s 158us/sample - loss: 0.4902 - val_loss: 0.4836\n",
      "Epoch 99/1000\n",
      "395/395 [==============================] - 0s 170us/sample - loss: 0.4742 - val_loss: 0.4836\n",
      "Epoch 100/1000\n",
      "395/395 [==============================] - 0s 151us/sample - loss: 0.4799 - val_loss: 0.4829\n",
      "Epoch 101/1000\n",
      "395/395 [==============================] - 0s 140us/sample - loss: 0.4851 - val_loss: 0.4835\n",
      "Epoch 102/1000\n",
      "395/395 [==============================] - 0s 142us/sample - loss: 0.4754 - val_loss: 0.4839\n",
      "Epoch 103/1000\n",
      "395/395 [==============================] - 0s 135us/sample - loss: 0.4598 - val_loss: 0.4839\n",
      "Epoch 104/1000\n",
      "395/395 [==============================] - 0s 172us/sample - loss: 0.4709 - val_loss: 0.4830\n",
      "Epoch 105/1000\n",
      "395/395 [==============================] - 0s 151us/sample - loss: 0.4789 - val_loss: 0.4830\n",
      "Epoch 106/1000\n",
      "395/395 [==============================] - 0s 150us/sample - loss: 0.4865 - val_loss: 0.4829\n",
      "Epoch 107/1000\n",
      "395/395 [==============================] - 0s 153us/sample - loss: 0.4720 - val_loss: 0.4825\n",
      "Epoch 108/1000\n",
      "395/395 [==============================] - 0s 151us/sample - loss: 0.4886 - val_loss: 0.4825\n",
      "Epoch 109/1000\n",
      "395/395 [==============================] - 0s 136us/sample - loss: 0.4674 - val_loss: 0.4824\n",
      "Epoch 110/1000\n",
      "395/395 [==============================] - 0s 146us/sample - loss: 0.4537 - val_loss: 0.4823\n",
      "Epoch 111/1000\n",
      "395/395 [==============================] - 0s 136us/sample - loss: 0.4806 - val_loss: 0.4823\n",
      "Epoch 112/1000\n",
      "395/395 [==============================] - 0s 140us/sample - loss: 0.4626 - val_loss: 0.4820\n",
      "Epoch 113/1000\n",
      "395/395 [==============================] - 0s 151us/sample - loss: 0.4730 - val_loss: 0.4831\n",
      "Epoch 114/1000\n",
      "395/395 [==============================] - 0s 150us/sample - loss: 0.4682 - val_loss: 0.4837\n",
      "Epoch 115/1000\n",
      "395/395 [==============================] - 0s 143us/sample - loss: 0.4737 - val_loss: 0.4840\n",
      "Epoch 116/1000\n",
      "395/395 [==============================] - 0s 148us/sample - loss: 0.4466 - val_loss: 0.4846\n",
      "Epoch 117/1000\n",
      "395/395 [==============================] - 0s 144us/sample - loss: 0.4697 - val_loss: 0.4846\n",
      "Epoch 118/1000\n",
      "395/395 [==============================] - 0s 169us/sample - loss: 0.4582 - val_loss: 0.4847\n",
      "Epoch 119/1000\n",
      "395/395 [==============================] - 0s 166us/sample - loss: 0.4727 - val_loss: 0.4847\n",
      "Epoch 00119: early stopping\n"
     ]
    },
    {
     "data": {
      "text/plain": [
       "<tensorflow.python.keras.callbacks.History at 0x216108d0708>"
      ]
     },
     "execution_count": 82,
     "metadata": {},
     "output_type": "execute_result"
    }
   ],
   "source": [
    "model.fit(x=X_train, \n",
    "          y=y_train, \n",
    "          epochs=1000,\n",
    "          validation_data=(X_test, y_test), verbose=1,\n",
    "          callbacks=[early_stop]\n",
    "          )"
   ]
  },
  {
   "cell_type": "code",
   "execution_count": 83,
   "metadata": {},
   "outputs": [
    {
     "data": {
      "text/plain": [
       "<matplotlib.axes._subplots.AxesSubplot at 0x21612139148>"
      ]
     },
     "execution_count": 83,
     "metadata": {},
     "output_type": "execute_result"
    },
    {
     "data": {
      "image/png": "[encoded data removed]",
      "text/plain": [
       "<Figure size 432x288 with 1 Axes>"
      ]
     },
     "metadata": {
      "needs_background": "light"
     },
     "output_type": "display_data"
    }
   ],
   "source": [
    "model_loss = pd.DataFrame(model.history.history)\n",
    "model_loss.plot()"
   ]
  },
  {
   "cell_type": "code",
   "execution_count": 84,
   "metadata": {},
   "outputs": [],
   "source": [
    "predictions = model.predict_classes(X_test)"
   ]
  },
  {
   "cell_type": "code",
   "execution_count": 85,
   "metadata": {},
   "outputs": [
    {
     "name": "stdout",
     "output_type": "stream",
     "text": [
      "              precision    recall  f1-score   support\n",
      "\n",
      "           0       0.91      0.39      0.55        54\n",
      "           1       0.78      0.98      0.87       116\n",
      "\n",
      "    accuracy                           0.79       170\n",
      "   macro avg       0.84      0.69      0.71       170\n",
      "weighted avg       0.82      0.79      0.76       170\n",
      "\n"
     ]
    }
   ],
   "source": [
    "print(classification_report(y_test,predictions))"
   ]
  },
  {
   "cell_type": "markdown",
   "metadata": {},
   "source": [
    "An ANN has been created which gives us an accuracy of nearly 78-79%"
   ]
  }
 ],
 "metadata": {
  "kernelspec": {
   "display_name": "Python 3",
   "language": "python",
   "name": "python3"
  },
  "language_info": {
   "codemirror_mode": {
    "name": "ipython",
    "version": 3
   },
   "file_extension": ".py",
   "mimetype": "text/x-python",
   "name": "python",
   "nbconvert_exporter": "python",
   "pygments_lexer": "ipython3",
   "version": "3.7.4"
  }
 },
 "nbformat": 4,
 "nbformat_minor": 2
}
